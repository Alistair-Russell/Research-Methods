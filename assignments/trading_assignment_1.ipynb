{
 "cells": [
  {
   "cell_type": "code",
   "execution_count": 3,
   "id": "fa2aae2b-2d1a-42a3-8c31-26cbc171e1c6",
   "metadata": {},
   "outputs": [],
   "source": [
    "from math import log, sqrt, exp\n",
    "import datetime as dt                   # date objects\n",
    "import numpy as np                      # array manipulation\n",
    "import matplotlib.pyplot as plot        # plotting\n",
    "import pandas as pd                     # data analysis\n",
    "import pandas_datareader as pdr\n",
    "\n",
    "from ib_insync import *\n",
    "util.startLoop()"
   ]
  },
  {
   "cell_type": "markdown",
   "id": "14f5d2d9-9240-4652-b6e4-ad6d1f6825bb",
   "metadata": {},
   "source": [
    "#### Trading Assignment 1\n",
    "\n",
    "Go to https://finance.yahoo.com and download adjusted close daily prices (end of trading day prices adjusted for dividends and splits) for the period 03/15/2022 to 09/15/2022 for SPY ETF."
   ]
  },
  {
   "cell_type": "code",
   "execution_count": 4,
   "id": "06c06aa3-2c68-43ca-92d6-506b734f0d2b",
   "metadata": {},
   "outputs": [],
   "source": [
    "# pull data from \n",
    "source = 'yahoo'\n",
    "indicators = ['SPY']\n",
    "end_date = dt.date.today()\n",
    "start_date = end_date - dt.timedelta(days=365)\n",
    "raw_data = pdr.DataReader(indicators, source, start_date, end_date)\n",
    "data = raw_data['Adj Close']"
   ]
  },
  {
   "cell_type": "markdown",
   "id": "cfc83b84-1488-4063-bd97-a846491670cd",
   "metadata": {},
   "source": [
    "1. Calculate the annual volatility for the S&P500 index. Use 252 trading days."
   ]
  },
  {
   "cell_type": "code",
   "execution_count": 5,
   "id": "907d97dc-0c3d-429f-97a2-19302bf31780",
   "metadata": {},
   "outputs": [
    {
     "name": "stdout",
     "output_type": "stream",
     "text": [
      "Annual Volatility SPY: 26.54347893416733\n"
     ]
    }
   ],
   "source": [
    "std_SPY = data.tail(252).SPY.std()\n",
    "print(f\"Annual Volatility SPY: {std_SPY}\")"
   ]
  },
  {
   "cell_type": "markdown",
   "id": "b1752bd6-7761-4385-a8e3-a9d9e4f48c74",
   "metadata": {},
   "source": [
    "2. Go to https://www.cboe.com/delayed_quotes/spy/quote_table and select five option contracts that are nearest to ATM with expiration as close as possible to 30 days and have open interest and volume of at least 1,000 contracts. Alternatively, connect to IB and download the option chain. (this part can be done with a bot)\n",
    "Using the volatility, you calculated in (1) and the Black-Scholes model, compute the “theoretical” prices of these call options."
   ]
  },
  {
   "cell_type": "code",
   "execution_count": 6,
   "id": "2ac4812f-a2d8-46e7-ad76-7b4f1343ab73",
   "metadata": {},
   "outputs": [
    {
     "data": {
      "text/plain": [
       "<IB connected to 127.0.0.1:4002 clientId=1>"
      ]
     },
     "execution_count": 6,
     "metadata": {},
     "output_type": "execute_result"
    }
   ],
   "source": [
    "# initialize connection to IBKR\n",
    "ib = IB()\n",
    "# ib.connect('127.0.0.1', 7497, clientId=1)  # IB Trader Workstation\n",
    "ib.connect('127.0.0.1', 4002, clientId=1)    # IB Gateway"
   ]
  },
  {
   "cell_type": "code",
   "execution_count": 10,
   "id": "e75a832e-d627-4453-ba93-98650682048f",
   "metadata": {},
   "outputs": [],
   "source": [
    "# create a contract for the underlying s&p500 index\n",
    "spx = Index('SPX', 'CBOE')\n",
    "ib.qualifyContracts(spx)\n",
    "ib.reqMarketDataType(4)\n",
    "\n",
    "# grab the ticker\n",
    "[ticker] = ib.reqTickers(spx)\n",
    "spx_price = ticker.marketPrice()"
   ]
  },
  {
   "cell_type": "code",
   "execution_count": 14,
   "id": "01b080f9-ef95-41b7-9540-dabdf5974c17",
   "metadata": {},
   "outputs": [],
   "source": [
    "# generate the option chain\n",
    "opt_chain = ib.reqSecDefOptParams(spx.symbol, '', spx.secType, spx.conId)\n",
    "chain = next(c for c in opt_chain if c.tradingClass == 'SPX' and c.exchange == 'SMART')\n",
    "\n",
    "# filter strikes for those close to in the money\n",
    "strikes = [s for s in chain.strikes\n",
    "           if spx_price - 20 < s < spx_price + 20]\n",
    "\n",
    "expirations = sorted(exp for exp in chain.expirations)[:2]\n",
    "\n",
    "rights = ['C']\n",
    "\n",
    "contracts = [Option('SPX', expiration, strike, right, 'SMART', tradingClass='SPX')\n",
    "        for right in rights\n",
    "        for expiration in expirations\n",
    "        for strike in strikes]\n",
    "contracts = ib.qualifyContracts(*contracts)"
   ]
  },
  {
   "cell_type": "code",
   "execution_count": 15,
   "id": "ae623227-e402-4dcd-baf2-460647afeef3",
   "metadata": {},
   "outputs": [
    {
     "data": {
      "text/plain": [
       "[Option(conId=545680858, symbol='SPX', lastTradeDateOrContractMonth='20220818', strike=4190.0, right='C', multiplier='100', exchange='SMART', currency='USD', localSymbol='SPX   220819C04190000', tradingClass='SPX'),\n",
       " Option(conId=562166897, symbol='SPX', lastTradeDateOrContractMonth='20220818', strike=4195.0, right='C', multiplier='100', exchange='SMART', currency='USD', localSymbol='SPX   220819C04195000', tradingClass='SPX'),\n",
       " Option(conId=503063663, symbol='SPX', lastTradeDateOrContractMonth='20220818', strike=4200.0, right='C', multiplier='100', exchange='SMART', currency='USD', localSymbol='SPX   220819C04200000', tradingClass='SPX'),\n",
       " Option(conId=562166913, symbol='SPX', lastTradeDateOrContractMonth='20220818', strike=4205.0, right='C', multiplier='100', exchange='SMART', currency='USD', localSymbol='SPX   220819C04205000', tradingClass='SPX'),\n",
       " Option(conId=545680867, symbol='SPX', lastTradeDateOrContractMonth='20220818', strike=4210.0, right='C', multiplier='100', exchange='SMART', currency='USD', localSymbol='SPX   220819C04210000', tradingClass='SPX'),\n",
       " Option(conId=562166928, symbol='SPX', lastTradeDateOrContractMonth='20220818', strike=4215.0, right='C', multiplier='100', exchange='SMART', currency='USD', localSymbol='SPX   220819C04215000', tradingClass='SPX'),\n",
       " Option(conId=545680873, symbol='SPX', lastTradeDateOrContractMonth='20220818', strike=4220.0, right='C', multiplier='100', exchange='SMART', currency='USD', localSymbol='SPX   220819C04220000', tradingClass='SPX'),\n",
       " Option(conId=503063678, symbol='SPX', lastTradeDateOrContractMonth='20220818', strike=4225.0, right='C', multiplier='100', exchange='SMART', currency='USD', localSymbol='SPX   220819C04225000', tradingClass='SPX'),\n",
       " Option(conId=557466729, symbol='SPX', lastTradeDateOrContractMonth='20220915', strike=4190.0, right='C', multiplier='100', exchange='SMART', currency='USD', localSymbol='SPX   220916C04190000', tradingClass='SPX'),\n",
       " Option(conId=565713180, symbol='SPX', lastTradeDateOrContractMonth='20220915', strike=4195.0, right='C', multiplier='100', exchange='SMART', currency='USD', localSymbol='SPX   220916C04195000', tradingClass='SPX'),\n",
       " Option(conId=497876382, symbol='SPX', lastTradeDateOrContractMonth='20220915', strike=4200.0, right='C', multiplier='100', exchange='SMART', currency='USD', localSymbol='SPX   220916C04200000', tradingClass='SPX'),\n",
       " Option(conId=565713184, symbol='SPX', lastTradeDateOrContractMonth='20220915', strike=4205.0, right='C', multiplier='100', exchange='SMART', currency='USD', localSymbol='SPX   220916C04205000', tradingClass='SPX'),\n",
       " Option(conId=557466754, symbol='SPX', lastTradeDateOrContractMonth='20220915', strike=4210.0, right='C', multiplier='100', exchange='SMART', currency='USD', localSymbol='SPX   220916C04210000', tradingClass='SPX'),\n",
       " Option(conId=565713194, symbol='SPX', lastTradeDateOrContractMonth='20220915', strike=4215.0, right='C', multiplier='100', exchange='SMART', currency='USD', localSymbol='SPX   220916C04215000', tradingClass='SPX'),\n",
       " Option(conId=557466777, symbol='SPX', lastTradeDateOrContractMonth='20220915', strike=4220.0, right='C', multiplier='100', exchange='SMART', currency='USD', localSymbol='SPX   220916C04220000', tradingClass='SPX'),\n",
       " Option(conId=497876386, symbol='SPX', lastTradeDateOrContractMonth='20220915', strike=4225.0, right='C', multiplier='100', exchange='SMART', currency='USD', localSymbol='SPX   220916C04225000', tradingClass='SPX')]"
      ]
     },
     "execution_count": 15,
     "metadata": {},
     "output_type": "execute_result"
    }
   ],
   "source": [
    "contracts"
   ]
  },
  {
   "cell_type": "code",
   "execution_count": 18,
   "id": "2a7a3823-07a9-4dec-a0d4-cde4f2abe298",
   "metadata": {},
   "outputs": [],
   "source": [
    "# Now calculate the theoretical prices of these options using BS\n",
    "#   there might be a library out there that does this efficiently, but it's pretty easy to write\n",
    "\n",
    "def d1(S, K, T, r, sigma):\n",
    "    return (log(S/K) + (r+sigma**2/2.)*T) / (sigma*sqrt(T))\n",
    "\n",
    "def d2(S, K, T, r, sigma):\n",
    "    return d1(S,K,T,r,sigma) - sigma*sqrt(T)\n",
    "\n",
    "def bs_call(S, K, T, r, sigma):\n",
    "    return S*norm.cdf(d1(S,K,T,r,sigma)) - K*exp(-r*T)*norm.cdf(d2(S,K,T,r,sigma))\n",
    "  \n",
    "def bs_put(S, K, T, r, sigma):\n",
    "    return K*exp(-r*T) - S*bs_call(S,K,T,r,sigma)\n"
   ]
  },
  {
   "cell_type": "code",
   "execution_count": 36,
   "id": "33552629-749f-4e0d-b4c6-00d68c04744d",
   "metadata": {},
   "outputs": [
    {
     "data": {
      "text/plain": [
       "Option(conId=545680858, symbol='SPX', lastTradeDateOrContractMonth='20220818', strike=4190.0, right='C', multiplier='100', exchange='SMART', currency='USD', localSymbol='SPX   220819C04190000', tradingClass='SPX')"
      ]
     },
     "execution_count": 36,
     "metadata": {},
     "output_type": "execute_result"
    }
   ],
   "source": [
    "call = contracts[0]\n",
    "call"
   ]
  },
  {
   "cell_type": "code",
   "execution_count": 38,
   "id": "6679047a-89c5-4128-ad9a-1bbab62c55c9",
   "metadata": {},
   "outputs": [
    {
     "data": {
      "text/plain": [
       "datetime.timedelta(days=3, seconds=56165, microseconds=3050)"
      ]
     },
     "execution_count": 38,
     "metadata": {},
     "output_type": "execute_result"
    }
   ],
   "source": [
    "def timediff(maturity):\n",
    "    t = dt.datetime.strptime(maturity, '%Y%m%d') - dt.datetime.now()\n",
    "    return t\n",
    "\n",
    "timediff(call.lastTradeDateOrContractMonth)"
   ]
  },
  {
   "cell_type": "code",
   "execution_count": 17,
   "id": "eddd735a-acda-465b-894d-a0dc216c6d2c",
   "metadata": {},
   "outputs": [
    {
     "ename": "TypeError",
     "evalue": "bs_call() missing 4 required positional arguments: 'K', 'T', 'r', and 'sigma'",
     "output_type": "error",
     "traceback": [
      "\u001b[0;31m---------------------------------------------------------------------------\u001b[0m",
      "\u001b[0;31mTypeError\u001b[0m                                 Traceback (most recent call last)",
      "Input \u001b[0;32mIn [17]\u001b[0m, in \u001b[0;36m<cell line: 2>\u001b[0;34m()\u001b[0m\n\u001b[1;32m      1\u001b[0m \u001b[38;5;66;03m# Price Options\u001b[39;00m\n\u001b[0;32m----> 2\u001b[0m opt_prices \u001b[38;5;241m=\u001b[39m [bs_call(c) \u001b[38;5;28;01mfor\u001b[39;00m c \u001b[38;5;129;01min\u001b[39;00m contracts]\n",
      "Input \u001b[0;32mIn [17]\u001b[0m, in \u001b[0;36m<listcomp>\u001b[0;34m(.0)\u001b[0m\n\u001b[1;32m      1\u001b[0m \u001b[38;5;66;03m# Price Options\u001b[39;00m\n\u001b[0;32m----> 2\u001b[0m opt_prices \u001b[38;5;241m=\u001b[39m [\u001b[43mbs_call\u001b[49m\u001b[43m(\u001b[49m\u001b[43mc\u001b[49m\u001b[43m)\u001b[49m \u001b[38;5;28;01mfor\u001b[39;00m c \u001b[38;5;129;01min\u001b[39;00m contracts]\n",
      "\u001b[0;31mTypeError\u001b[0m: bs_call() missing 4 required positional arguments: 'K', 'T', 'r', and 'sigma'"
     ]
    }
   ],
   "source": [
    "# Price Options\n",
    "opt_prices = [bs_call(c.strike, std_SPY) for c in contracts]"
   ]
  },
  {
   "cell_type": "markdown",
   "id": "50942348-2e9c-43bd-b259-b6a7332b8757",
   "metadata": {},
   "source": [
    "**Note:** We'll continue parts 3-4 by wrapping what we have done so far into a class that we can periodically instantiate and run."
   ]
  },
  {
   "cell_type": "markdown",
   "id": "b82db8f1-bb73-42e6-9eef-fb7f1b5e4b3b",
   "metadata": {},
   "source": [
    "3. At the beginning of the first trading day, sell 10 contracts of the call option with the largest mispricing. What would the proceeds from your trade be if the market price equals the BS option value? What are the actual proceeds from your trade?"
   ]
  },
  {
   "cell_type": "markdown",
   "id": "18fc025f-4e83-418f-a16c-785e7ce4ebd6",
   "metadata": {},
   "source": [
    "4. As soon as possible after executing the trade, you initiate a delta hedge for your options. The hedge will be rebalanced (adjusted) during the next four weeks, i.e., until the expiation date or until the hedged position is closed. \\n At initiation of your hedge, what is the delta for the call option? How many shares do you have to trade? Considering the proceeds from the options sale, how much would you have to you have to borrow (in real life) to finance a delta-neutral position. What is the interest cost incurred at the end of the first trading day?"
   ]
  },
  {
   "cell_type": "markdown",
   "id": "aa879aaf-54e0-4e8d-aa27-244380ea3fea",
   "metadata": {},
   "source": [
    "5. At least twice during each trading day for the next four weeks, rebalance your portfolio so that your risk exposure remains as close to delta neutral as possible. Remember transaction costs! Do not trade unless the stock has moved enough, i.e. more than a round-trip transaction costs!  (this part can be done with an algo)"
   ]
  },
  {
   "cell_type": "markdown",
   "id": "6cdbe6e1-90f3-4a99-9eab-6e00671722a9",
   "metadata": {},
   "source": [
    "6. In four weeks, the options are either exercised or expire with 0 value or the hedged position is closed. What is the value of your delta neutral position? Did you make or lost money? Explain why?"
   ]
  }
 ],
 "metadata": {
  "kernelspec": {
   "display_name": "Python 3 (ipykernel)",
   "language": "python",
   "name": "python3"
  },
  "language_info": {
   "codemirror_mode": {
    "name": "ipython",
    "version": 3
   },
   "file_extension": ".py",
   "mimetype": "text/x-python",
   "name": "python",
   "nbconvert_exporter": "python",
   "pygments_lexer": "ipython3",
   "version": "3.9.12"
  }
 },
 "nbformat": 4,
 "nbformat_minor": 5
}
