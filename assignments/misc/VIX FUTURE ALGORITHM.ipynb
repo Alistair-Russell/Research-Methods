{
 "cells": [
  {
   "cell_type": "code",
   "execution_count": 1,
   "id": "19fd68e0",
   "metadata": {},
   "outputs": [],
   "source": [
    "#You can use the line below to install statsmodels package by deleting #\n",
    "#pip install statsmodels"
   ]
  },
  {
   "cell_type": "code",
   "execution_count": 1,
   "id": "8b1fb4f8",
   "metadata": {},
   "outputs": [],
   "source": [
    "from math import log, sqrt, exp\n",
    "import time\n",
    "import datetime as dt  \n",
    "from datetime import datetime           # date objects\n",
    "import numpy as np                      # array manipulation\n",
    "import matplotlib.pyplot as plot        # plotting\n",
    "import pandas as pd                     # data analysis\n",
    "import pandas_datareader as pdr\n",
    "from scipy.stats import norm  # normal cdf\n",
    "import csv \n",
    "import statsmodels.formula.api as smf # for linear regression\n",
    "from ib_insync import *\n",
    "util.startLoop()"
   ]
  },
  {
   "cell_type": "code",
   "execution_count": 2,
   "id": "264c661a",
   "metadata": {},
   "outputs": [
    {
     "name": "stdout",
     "output_type": "stream",
     "text": [
      "no ib connection to disconnect\n"
     ]
    },
    {
     "data": {
      "text/plain": [
       "<IB connected to 127.0.0.1:7497 clientId=12>"
      ]
     },
     "execution_count": 2,
     "metadata": {},
     "output_type": "execute_result"
    }
   ],
   "source": [
    "try:\n",
    "    ib.disconnect()\n",
    "    time.sleep(5)\n",
    "except:\n",
    "    print(\"no ib connection to disconnect\")\n",
    "\n",
    "# initialize connection to IBKR\n",
    "ib = IB()\n",
    "ib.connect('127.0.0.1', 7497, clientId=12)  # IB Trader Workstation"
   ]
  },
  {
   "cell_type": "code",
   "execution_count": 3,
   "id": "31bbaaac",
   "metadata": {},
   "outputs": [
    {
     "data": {
      "text/plain": [
       "ContractDetails(contract=Contract(secType='FUT', conId=545798747, symbol='VIX', lastTradeDateOrContractMonth='20221116', multiplier='1000', exchange='CFE', currency='USD', localSymbol='VXX2', tradingClass='VX'), marketName='VX', minTick=0.05, sizeMinTick=1.0, orderTypes='ACTIVETIM,AD,ADJUST,ALERT,ALGO,ALLOC,AVGCOST,BASKET,BENCHPX,COND,CONDORDER,DAY,DEACT,DEACTDIS,DEACTEOD,GAT,GTC,GTD,GTT,HID,ICE,IOC,LIT,LMT,LTH,MIT,MKT,MTL,NGCOMB,NONALGO,OCA,OPENCLOSE,PEGBENCH,SCALE,SCALERST,SNAPMID,SNAPMKT,SNAPREL,STP,STPLMT,TRAIL,TRAILLIT,TRAILLMT,TRAILMIT,WHATIF', validExchanges='CFE', priceMagnifier=1, underConId=13455763, longName='CBOE Volatility Index', contractMonth='202211', industry='Indices', category='Volatility Index', subcategory='*', timeZoneId='US/Central', tradingHours='20221011:1700-20221012:1600;20221012:1700-20221013:1600;20221013:1700-20221014:1600;20221015:CLOSED;20221016:1700-20221017:1600;20221017:1700-20221018:1600', liquidHours='20221012:0830-20221012:1515;20221013:0830-20221013:1515;20221014:0830-20221014:1515;20221015:CLOSED;20221016:CLOSED;20221017:0830-20221017:1515;20221017:1700-20221018:1600', evRule='', evMultiplier=0, mdSizeMultiplier=1, aggGroup=2147483647, underSymbol='VIX', underSecType='IND', marketRuleIds='1304', secIdList=[], realExpirationDate='20221116', lastTradeTime='08:00', stockType='', cusip='', ratings='', descAppend='', bondType='', couponType='', callable=False, putable=False, coupon=0, convertible=False, maturity='', issueDate='', nextOptionDate='', nextOptionType='', nextOptionPartial=False, notes='')"
      ]
     },
     "execution_count": 3,
     "metadata": {},
     "output_type": "execute_result"
    }
   ],
   "source": [
    "#find the future contract\n",
    "future_date_string='20221116'\n",
    "future = Future('VIX',future_date_string,'CFE')\n",
    "ib.qualifyContracts(future)\n",
    "[vix_con] = ib.reqContractDetails(future)\n",
    "vix_con"
   ]
  },
  {
   "cell_type": "code",
   "execution_count": 4,
   "id": "72fc5677",
   "metadata": {},
   "outputs": [
    {
     "data": {
      "text/plain": [
       "Future(conId=545798747, symbol='VIX', lastTradeDateOrContractMonth='20221116', multiplier='1000', exchange='CFE', currency='USD', localSymbol='VXX2', tradingClass='VX')"
      ]
     },
     "execution_count": 4,
     "metadata": {},
     "output_type": "execute_result"
    }
   ],
   "source": [
    "#How to get the price data for the vix future\n",
    "ib.reqMarketDataType(4)\n",
    "[vix_ticker]=ib.reqTickers(future)\n",
    "vix_1=vix_ticker.last\n",
    "vix_ticker.contract"
   ]
  },
  {
   "cell_type": "code",
   "execution_count": 8,
   "id": "e7eb1dee",
   "metadata": {},
   "outputs": [],
   "source": [
    "#How to get the price of the VIX index\n",
    "index = Index('VIX')\n",
    "ib.qualifyContracts(index)\n",
    "ib.reqContractDetails(index)\n",
    "[Ticker]=ib.reqTickers(index)\n",
    "Ticker\n",
    "vix_spot=Ticker.last"
   ]
  },
  {
   "cell_type": "code",
   "execution_count": 9,
   "id": "ca340025",
   "metadata": {},
   "outputs": [
    {
     "data": {
      "text/plain": [
       "-0.05192878338278939"
      ]
     },
     "execution_count": 9,
     "metadata": {},
     "output_type": "execute_result"
    }
   ],
   "source": [
    "#construct the signal for backwardation/contango\n",
    "b_signal=(vix_1/vix_spot)-1\n",
    "b_signal\n",
    "#if b_signal is positive, vix term structure is in contango\n",
    "#if b_signal is negative, vix term structure is in bakwardation"
   ]
  },
  {
   "cell_type": "code",
   "execution_count": 10,
   "id": "e91cc4ab",
   "metadata": {},
   "outputs": [
    {
     "data": {
      "text/plain": [
       "-0.07000000000000015"
      ]
     },
     "execution_count": 10,
     "metadata": {},
     "output_type": "execute_result"
    },
    {
     "name": "stderr",
     "output_type": "stream",
     "text": [
      "Peer closed connection.\n"
     ]
    }
   ],
   "source": [
    "#remaining business days\n",
    "today=dt.date.today()\n",
    "future_date=datetime.strptime(future.lastTradeDateOrContractMonth, \"%Y%m%d\").date()\n",
    "days = np.busday_count(today, future_date)\n",
    "days\n",
    "#daily roll calculation\n",
    "daily_roll=(vix_1-vix_spot)/days\n",
    "daily_roll"
   ]
  },
  {
   "cell_type": "code",
   "execution_count": 151,
   "id": "e4759f8b",
   "metadata": {},
   "outputs": [
    {
     "data": {
      "text/plain": [
       "MarketOrder(action='BUY', totalQuantity=5)"
      ]
     },
     "execution_count": 151,
     "metadata": {},
     "output_type": "execute_result"
    }
   ],
   "source": [
    "order=()\n",
    "#first trade:\n",
    "if b_signal<0 and daily_roll<-0.10: \n",
    "    order = MarketOrder('BUY', 5)\n",
    "elif b_signal>0 and daily_roll>0.10:\n",
    "    order = MarketOrder('SELL', 5)\n",
    "order"
   ]
  },
  {
   "cell_type": "code",
   "execution_count": 152,
   "id": "fe76a503",
   "metadata": {},
   "outputs": [],
   "source": [
    "#send order to ibkr\n",
    "trade = ib.placeOrder(future, order)"
   ]
  },
  {
   "cell_type": "code",
   "execution_count": 153,
   "id": "ae764335",
   "metadata": {},
   "outputs": [
    {
     "data": {
      "text/plain": [
       "[Position(account='DU6066633', contract=Future(conId=540342682, symbol='VIX', lastTradeDateOrContractMonth='20221019', multiplier='1000', currency='USD', localSymbol='VXV2', tradingClass='VX'), position=5.0, avgCost=29952.38)]"
      ]
     },
     "execution_count": 153,
     "metadata": {},
     "output_type": "execute_result"
    }
   ],
   "source": [
    "positions = [p for p in ib.positions() if p.contract.symbol == \"VIX\"]\n",
    "future_pos = [p for p in positions if p.contract.secType == \"FUT\"]\n",
    "future_pos"
   ]
  },
  {
   "cell_type": "code",
   "execution_count": 154,
   "id": "4f2c24e0",
   "metadata": {},
   "outputs": [
    {
     "data": {
      "text/plain": [
       "'20221019'"
      ]
     },
     "execution_count": 154,
     "metadata": {},
     "output_type": "execute_result"
    }
   ],
   "source": [
    "future_pos[0].contract.lastTradeDateOrContractMonth"
   ]
  },
  {
   "cell_type": "code",
   "execution_count": 138,
   "id": "f2f71b3f",
   "metadata": {},
   "outputs": [],
   "source": [
    "#exit strategy\n",
    "for f in future_pos:\n",
    "    days = np.busday_count(today, datetime.strptime(f.contract.lastTradeDateOrContractMonth, \"%Y%m%d\").date())\n",
    "    daily_roll=(vix_1-vix_spot)/days #need to find a way to update the price here\n",
    "    if f.position>0 and (days<=9 or daily_roll>-0.05):\n",
    "        order = MarketOrder('SELL', f.position)\n",
    "        trade = ib.placeOrder(future, order)\n",
    "    elif f.position<0 and (days<=9 or daily_roll<0.05):\n",
    "        order = MarketOrder('BUY', abs(f.position))\n",
    "        trade = ib.placeOrder(future, order) "
   ]
  },
  {
   "cell_type": "code",
   "execution_count": 155,
   "id": "7b78a086",
   "metadata": {},
   "outputs": [
    {
     "data": {
      "text/html": [
       "<div>\n",
       "<style scoped>\n",
       "    .dataframe tbody tr th:only-of-type {\n",
       "        vertical-align: middle;\n",
       "    }\n",
       "\n",
       "    .dataframe tbody tr th {\n",
       "        vertical-align: top;\n",
       "    }\n",
       "\n",
       "    .dataframe thead th {\n",
       "        text-align: right;\n",
       "    }\n",
       "</style>\n",
       "<table border=\"1\" class=\"dataframe\">\n",
       "  <thead>\n",
       "    <tr style=\"text-align: right;\">\n",
       "      <th></th>\n",
       "      <th>Date</th>\n",
       "      <th>sp_mini_change</th>\n",
       "      <th>vix_futures_change</th>\n",
       "    </tr>\n",
       "  </thead>\n",
       "  <tbody>\n",
       "    <tr>\n",
       "      <th>0</th>\n",
       "      <td>09/29/2022</td>\n",
       "      <td>0.016832</td>\n",
       "      <td>-0.038647</td>\n",
       "    </tr>\n",
       "    <tr>\n",
       "      <th>1</th>\n",
       "      <td>09/28/2022</td>\n",
       "      <td>0.000136</td>\n",
       "      <td>0.006483</td>\n",
       "    </tr>\n",
       "    <tr>\n",
       "      <th>2</th>\n",
       "      <td>09/27/2022</td>\n",
       "      <td>-0.010053</td>\n",
       "      <td>0.024917</td>\n",
       "    </tr>\n",
       "    <tr>\n",
       "      <th>3</th>\n",
       "      <td>09/26/2022</td>\n",
       "      <td>-0.019061</td>\n",
       "      <td>0.082734</td>\n",
       "    </tr>\n",
       "    <tr>\n",
       "      <th>4</th>\n",
       "      <td>09/23/2022</td>\n",
       "      <td>-0.004415</td>\n",
       "      <td>-0.021127</td>\n",
       "    </tr>\n",
       "    <tr>\n",
       "      <th>5</th>\n",
       "      <td>09/22/2022</td>\n",
       "      <td>-0.021850</td>\n",
       "      <td>0.038012</td>\n",
       "    </tr>\n",
       "    <tr>\n",
       "      <th>6</th>\n",
       "      <td>09/21/2022</td>\n",
       "      <td>-0.011280</td>\n",
       "      <td>0.032453</td>\n",
       "    </tr>\n",
       "    <tr>\n",
       "      <th>7</th>\n",
       "      <td>09/20/2022</td>\n",
       "      <td>0.008613</td>\n",
       "      <td>-0.025735</td>\n",
       "    </tr>\n",
       "    <tr>\n",
       "      <th>8</th>\n",
       "      <td>09/19/2022</td>\n",
       "      <td>-0.003714</td>\n",
       "      <td>-0.012704</td>\n",
       "    </tr>\n",
       "    <tr>\n",
       "      <th>9</th>\n",
       "      <td>09/16/2022</td>\n",
       "      <td>-0.017120</td>\n",
       "      <td>0.011009</td>\n",
       "    </tr>\n",
       "  </tbody>\n",
       "</table>\n",
       "</div>"
      ],
      "text/plain": [
       "         Date  sp_mini_change  vix_futures_change\n",
       "0  09/29/2022        0.016832           -0.038647\n",
       "1  09/28/2022        0.000136            0.006483\n",
       "2  09/27/2022       -0.010053            0.024917\n",
       "3  09/26/2022       -0.019061            0.082734\n",
       "4  09/23/2022       -0.004415           -0.021127\n",
       "5  09/22/2022       -0.021850            0.038012\n",
       "6  09/21/2022       -0.011280            0.032453\n",
       "7  09/20/2022        0.008613           -0.025735\n",
       "8  09/19/2022       -0.003714           -0.012704\n",
       "9  09/16/2022       -0.017120            0.011009"
      ]
     },
     "execution_count": 155,
     "metadata": {},
     "output_type": "execute_result"
    }
   ],
   "source": [
    "## Q4- E-mini and VIX Futures Historical Data\n",
    "today=dt.date.today()\n",
    "today_str=today.strftime(\"%m/%d/%Y\")\n",
    "a_year_ago = today - dt.timedelta(days=365)\n",
    "a_year_ago_str = a_year_ago.strftime(\"%m/%d/%Y\")\n",
    "#WSJ database didn't work for futures, I got the data from marketwatch for vx00 and es00\n",
    "vix_futures_data = pd.read_csv('https://www.marketwatch.com/investing/future/vx00/downloaddatapartial?startdate='+a_year_ago_str+'%2000:00:00&enddate='+today_str+'%2000:00:00&daterange=d30&frequency=p1d&csvdownload=true&downloadpartial=false&newdates=false')\n",
    "sp500_futures=pd.read_csv(\"https://www.marketwatch.com/investing/future/es00/downloaddatapartial?startdate=\"+a_year_ago_str+\"%2000:00:00&enddate=\"+today_str+\"%2000:00:00&daterange=d30&frequency=p1d&csvdownload=true&downloadpartial=false&newdates=false\")\n",
    "# I will use open prices to calculate the percentage changes\n",
    "sample = pd.DataFrame(columns=[\"Date\",\"sp_mini_change\",\"vix_futures_change\"])\n",
    "sample[\"Date\"]=vix_futures_data[\"Date\"]\n",
    "sample[\"sp_mini_change\"]=sp500_futures['Open'].str.replace(',', '').astype(float)/sp500_futures['Open'].str.replace(',', '').astype(float).shift(periods=-1)-1\n",
    "sample[\"vix_futures_change\"]=vix_futures_data['Open']/vix_futures_data['Open'].shift(periods=-1)-1\n",
    "sample.head(10)\n",
    "#sample is the df we'll use in the regressions for hedge ratio"
   ]
  },
  {
   "cell_type": "code",
   "execution_count": 156,
   "id": "3dbcdae1",
   "metadata": {},
   "outputs": [
    {
     "name": "stdout",
     "output_type": "stream",
     "text": [
      "optimal hedge ratio is -3.1239085760708107\n"
     ]
    }
   ],
   "source": [
    "#will use this chunk for change regression\n",
    "model=smf.ols(\"vix_futures_change~sp_mini_change\",sample).fit()\n",
    "# get the model beta\n",
    "beta=model.params.values[1]\n",
    "print(\"optimal hedge ratio is \"+str(beta))"
   ]
  },
  {
   "cell_type": "code",
   "execution_count": 157,
   "id": "a7ca370f",
   "metadata": {},
   "outputs": [
    {
     "name": "stdout",
     "output_type": "stream",
     "text": [
      "sp500mini price is 3679.75\n"
     ]
    }
   ],
   "source": [
    "#find the sp500 mini future\n",
    "#future_date_string needs to be checked\n",
    "future_date_string='20221216'\n",
    "future = Future('ES', future_date_string,'GLOBEX')\n",
    "ib.qualifyContracts(future)\n",
    "ib.reqContractDetails(future)[0]\n",
    "#How to get the price data for the vix future\n",
    "ib.reqMarketDataType(4)\n",
    "[Ticker]=ib.reqTickers(future)\n",
    "Ticker\n",
    "sp500mini_price=Ticker.last\n",
    "print('sp500mini price is '+str(sp500mini_price))"
   ]
  },
  {
   "cell_type": "code",
   "execution_count": 159,
   "id": "d19741b8-f25a-430c-b16a-3ad0c342a169",
   "metadata": {},
   "outputs": [
    {
     "data": {
      "text/plain": [
       "Ticker(contract=Future(conId=495512551, symbol='ES', lastTradeDateOrContractMonth='20221216', multiplier='50', exchange='GLOBEX', currency='USD', localSymbol='ESZ2', tradingClass='ES'), time=datetime.datetime(2022, 9, 30, 15, 20, 17, 369273, tzinfo=datetime.timezone.utc), marketDataType=3, bid=3679.5, bidSize=45.0, ask=3679.75, askSize=39.0, last=3679.75, lastSize=1.0, volume=1222160.0, open=3656.5, high=3693.75, low=3626.5, close=3654.25)"
      ]
     },
     "execution_count": 159,
     "metadata": {},
     "output_type": "execute_result"
    }
   ],
   "source": [
    "Ticker"
   ]
  },
  {
   "cell_type": "code",
   "execution_count": 166,
   "id": "17ba5b7a",
   "metadata": {},
   "outputs": [
    {
     "data": {
      "text/plain": [
       "-5.085185779105688"
      ]
     },
     "execution_count": 166,
     "metadata": {},
     "output_type": "execute_result"
    }
   ],
   "source": [
    "#Optimal Hedge amount\n",
    "\n",
    "hedge_amount=(beta*(vix_1*1000)/(sp500mini_price*(vix_con.minTick*100)))\n",
    "hedge_amount"
   ]
  },
  {
   "cell_type": "code",
   "execution_count": 167,
   "id": "0ffef277",
   "metadata": {},
   "outputs": [
    {
     "data": {
      "text/plain": [
       "MarketOrder(action='SELL', totalQuantity=25)"
      ]
     },
     "execution_count": 167,
     "metadata": {},
     "output_type": "execute_result"
    },
    {
     "name": "stderr",
     "output_type": "stream",
     "text": [
      "Peer closed connection.\n"
     ]
    }
   ],
   "source": [
    "if hedge_amount<0:\n",
    "    hedge_order = MarketOrder('SELL', round(abs(hedge_amount)*abs(future_pos[0].position))) #be careful on that f.position if you have more than one contract\n",
    "else:\n",
    "    hedge_order = MarketOrder('BUY',round(abs(hedge_amount)*abs(future_pos[0].position)))\n",
    "hedge_order"
   ]
  },
  {
   "cell_type": "code",
   "execution_count": 165,
   "id": "9a9c6b0e",
   "metadata": {},
   "outputs": [],
   "source": [
    "#send order to ibkr\n",
    "trade = ib.placeOrder(future, hedge_order)"
   ]
  },
  {
   "cell_type": "code",
   "execution_count": null,
   "id": "9e0b7140-b2ff-4b17-96aa-1218d6974e23",
   "metadata": {},
   "outputs": [],
   "source": []
  }
 ],
 "metadata": {
  "kernelspec": {
   "display_name": "Python 3 (ipykernel)",
   "language": "python",
   "name": "python3"
  },
  "language_info": {
   "codemirror_mode": {
    "name": "ipython",
    "version": 3
   },
   "file_extension": ".py",
   "mimetype": "text/x-python",
   "name": "python",
   "nbconvert_exporter": "python",
   "pygments_lexer": "ipython3",
   "version": "3.9.12"
  },
  "vscode": {
   "interpreter": {
    "hash": "4ae82d6772557206a20b5b1c955511bcd574119d1a64cb25ff88d6793250536d"
   }
  }
 },
 "nbformat": 4,
 "nbformat_minor": 5
}
