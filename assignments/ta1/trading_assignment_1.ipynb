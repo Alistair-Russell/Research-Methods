{
 "cells": [
  {
   "cell_type": "code",
   "execution_count": 218,
   "id": "fa2aae2b-2d1a-42a3-8c31-26cbc171e1c6",
   "metadata": {},
   "outputs": [],
   "source": [
    "from math import log, sqrt, exp\n",
    "import time\n",
    "import datetime as dt                   # date objects\n",
    "import numpy as np                      # array manipulation\n",
    "import matplotlib.pyplot as plot        # plotting\n",
    "import pandas as pd                     # data analysis\n",
    "import pandas_datareader as pdr\n",
    "from scipy.stats import norm  # normal cdf\n",
    "\n",
    "from ib_insync import *\n",
    "util.startLoop()"
   ]
  },
  {
   "cell_type": "markdown",
   "id": "14f5d2d9-9240-4652-b6e4-ad6d1f6825bb",
   "metadata": {},
   "source": [
    "#### Trading Assignment 1\n",
    "\n",
    "Go to https://finance.yahoo.com and download adjusted close daily prices (end of trading day prices adjusted for dividends and splits) for the period 03/15/2022 to 09/15/2022 for SPY ETF."
   ]
  },
  {
   "cell_type": "code",
   "execution_count": 219,
   "id": "06c06aa3-2c68-43ca-92d6-506b734f0d2b",
   "metadata": {},
   "outputs": [],
   "source": [
    "# pull data from \n",
    "source = 'yahoo'\n",
    "indicators = ['SPY']\n",
    "end_date = dt.date.today()\n",
    "start_date = end_date - dt.timedelta(days=365)\n",
    "raw_data = pdr.DataReader(indicators, source, start_date, end_date)\n",
    "data = raw_data['Adj Close']"
   ]
  },
  {
   "cell_type": "markdown",
   "id": "cfc83b84-1488-4063-bd97-a846491670cd",
   "metadata": {},
   "source": [
    "1. Calculate the annual volatility for the S&P500 index. Use 252 trading days."
   ]
  },
  {
   "cell_type": "code",
   "execution_count": 220,
   "id": "907d97dc-0c3d-429f-97a2-19302bf31780",
   "metadata": {},
   "outputs": [
    {
     "name": "stdout",
     "output_type": "stream",
     "text": [
      "Annual Volatility SPY: 28.160970100183384\n"
     ]
    }
   ],
   "source": [
    "std_SPY = data.tail(252).SPY.std()\n",
    "mean_SPY = data.tail(252).SPY.mean()\n",
    "print(f\"Annual Volatility SPY: {std_SPY}\")"
   ]
  },
  {
   "cell_type": "markdown",
   "id": "b1752bd6-7761-4385-a8e3-a9d9e4f48c74",
   "metadata": {},
   "source": [
    "2. Go to https://www.cboe.com/delayed_quotes/spy/quote_table and select five option contracts that are nearest to ATM with expiration as close as possible to 30 days and have open interest and volume of at least 1,000 contracts. Alternatively, connect to IB and download the option chain. (this part can be done with a bot)\n",
    "Using the volatility, you calculated in (1) and the Black-Scholes model, compute the “theoretical” prices of these call options."
   ]
  },
  {
   "cell_type": "code",
   "execution_count": 221,
   "id": "2ac4812f-a2d8-46e7-ad76-7b4f1343ab73",
   "metadata": {},
   "outputs": [
    {
     "data": {
      "text/plain": [
       "<IB connected to 127.0.0.1:7497 clientId=1>"
      ]
     },
     "execution_count": 221,
     "metadata": {},
     "output_type": "execute_result"
    }
   ],
   "source": [
    "try:\n",
    "    ib.disconnect()\n",
    "    time.sleep(5)\n",
    "except:\n",
    "    print(\"no ib connection to disconnect\")\n",
    "\n",
    "# initialize connection to IBKR\n",
    "ib = IB()\n",
    "ib.connect('127.0.0.1', 7497, clientId=1)  # IB Trader Workstation\n",
    "#ib.connect('127.0.0.1', 4002, clientId=1)    # IB Gateway"
   ]
  },
  {
   "cell_type": "code",
   "execution_count": 222,
   "id": "39ea6e24-ab5f-4019-aad9-c82e00d722a9",
   "metadata": {
    "tags": []
   },
   "outputs": [
    {
     "data": {
      "text/plain": [
       "[Position(account='DU6066633', contract=Stock(conId=756733, symbol='SPY', exchange='ARCA', currency='USD', localSymbol='SPY', tradingClass='SPY'), position=302.0, avgCost=390.4260927),\n",
       " Position(account='DU6066633', contract=Option(conId=564970818, symbol='SPY', lastTradeDateOrContractMonth='20221021', strike=390.0, right='C', multiplier='100', currency='USD', localSymbol='SPY   221021C00390000', tradingClass='SPY'), position=-10.0, avgCost=1255.26991)]"
      ]
     },
     "execution_count": 222,
     "metadata": {},
     "output_type": "execute_result"
    }
   ],
   "source": [
    "ib.positions()"
   ]
  },
  {
   "cell_type": "code",
   "execution_count": 223,
   "id": "e75a832e-d627-4453-ba93-98650682048f",
   "metadata": {},
   "outputs": [],
   "source": [
    "# create a contract for the underlying s&p500 index\n",
    "spx = Stock('SPY', 'SMART', 'USD')\n",
    "ib.qualifyContracts(spx)\n",
    "ib.reqMarketDataType(4)\n",
    "\n",
    "# grab the ticker\n",
    "[ticker] = ib.reqTickers(spx)\n",
    "spx_price = ticker.marketPrice()"
   ]
  },
  {
   "cell_type": "code",
   "execution_count": 224,
   "id": "01b080f9-ef95-41b7-9540-dabdf5974c17",
   "metadata": {},
   "outputs": [
    {
     "name": "stderr",
     "output_type": "stream",
     "text": [
      "Error 200, reqId 59: No security definition has been found for the request, contract: Option(symbol='SPY', lastTradeDateOrContractMonth='20221021', strike=387.5, right='C', exchange='SMART', tradingClass='SPY')\n",
      "Unknown contract: Option(symbol='SPY', lastTradeDateOrContractMonth='20221021', strike=387.5, right='C', exchange='SMART', tradingClass='SPY')\n"
     ]
    }
   ],
   "source": [
    "# generate the option chain\n",
    "opt_chain = ib.reqSecDefOptParams(spx.symbol, '', spx.secType, spx.conId)\n",
    "chain = next(c for c in opt_chain if c.tradingClass == 'SPY' and c.exchange == 'SMART')\n",
    "\n",
    "# filter strikes for those close to in the money\n",
    "strikes = [s for s in chain.strikes\n",
    "           if spx_price - 20 < s < spx_price + 20]\n",
    "\n",
    "expirations = sorted(exp for exp in chain.expirations)[:3]\n",
    "expirations = ['20221021']\n",
    "\n",
    "rights = ['C']\n",
    "\n",
    "contracts = [Option('SPY', expiration, strike, right, 'SMART', tradingClass='SPY')\n",
    "        for right in rights\n",
    "        for expiration in expirations\n",
    "        for strike in strikes]\n",
    "contracts = ib.qualifyContracts(*contracts)\n",
    "ib.reqMarketDataType(4)"
   ]
  },
  {
   "cell_type": "code",
   "execution_count": 225,
   "id": "b8958373-7784-4dd2-9da4-5a48b76b99a1",
   "metadata": {},
   "outputs": [
    {
     "data": {
      "text/plain": [
       "Ticker(contract=Option(conId=568552118, symbol='SPY', lastTradeDateOrContractMonth='20221021', strike=349.0, right='C', multiplier='100', exchange='SMART', currency='USD', localSymbol='SPY   221021C00349000', tradingClass='SPY'), time=datetime.datetime(2022, 9, 23, 13, 37, 48, 218197, tzinfo=datetime.timezone.utc), marketDataType=3, bid=-1.0, bidSize=0.0, ask=-1.0, askSize=0.0, last=0.0, lastSize=0.0, volume=0.0, close=29.12, bidGreeks=OptionComputation(tickAttrib=0, impliedVol=0.2849010687653821, delta=None, optPrice=None, pvDividend=0.0, gamma=None, vega=None, theta=None, undPrice=369.1000061035156), askGreeks=OptionComputation(tickAttrib=0, impliedVol=0.29464744584955627, delta=None, optPrice=None, pvDividend=0.0, gamma=None, vega=None, theta=None, undPrice=369.1000061035156), lastGreeks=OptionComputation(tickAttrib=0, impliedVol=None, delta=None, optPrice=None, pvDividend=0.0, gamma=None, vega=None, theta=None, undPrice=369.1000061035156), modelGreeks=OptionComputation(tickAttrib=0, impliedVol=0.29121774065013734, delta=0.7753191819473934, optPrice=24.861872232791857, pvDividend=0.0, gamma=0.010046060767724806, vega=0.30550967367921444, theta=-0.18166809714417745, undPrice=368.95001220703125))"
      ]
     },
     "execution_count": 225,
     "metadata": {},
     "output_type": "execute_result"
    }
   ],
   "source": [
    "# grab an example contract\n",
    "call = contracts[0]\n",
    "[ticker] = ib.reqTickers(call)\n",
    "ticker"
   ]
  },
  {
   "cell_type": "code",
   "execution_count": 226,
   "id": "2a7a3823-07a9-4dec-a0d4-cde4f2abe298",
   "metadata": {
    "tags": []
   },
   "outputs": [],
   "source": [
    "# now calculate the theoretical prices of these options using BS\n",
    "\n",
    "def bs_price(S, K, T, r, sigma, opt=\"c\"):\n",
    "    \"\"\"Price an option with the black-scholes model\n",
    "\n",
    "    Args:\n",
    "        S (float): Price of the underlying security\n",
    "        K (float): Strike price\n",
    "        T (float): time to maturity\n",
    "        r (float): risk free interest rate\n",
    "        sigma (float): volatility of the underlying security\n",
    "        opt (str, optional): option type. Defaults to \"C\" (call)\n",
    "\n",
    "    Returns:\n",
    "        float: the black-scholes price of the option\n",
    "    \"\"\"\n",
    "    d1 = (np.log(S / K) + (r + sigma**2 / 2.0) * T) / (sigma * np.sqrt(T))\n",
    "    d2 = d1 - sigma * np.sqrt(T)\n",
    "\n",
    "    if opt == \"c\":\n",
    "        bs_price = S * norm.cdf(d1) - K * np.exp(-r * T) * norm.cdf(d2)\n",
    "    elif opt == \"p\":\n",
    "        bs_price = K * np.exp(-r * T) * norm.cdf(-d2) - S * norm.cdf(-d1)\n",
    "    else:\n",
    "        bs_price = None\n",
    "    return bs_price\n"
   ]
  },
  {
   "cell_type": "markdown",
   "id": "240bc456-00cd-41d7-a17f-62c4211db261",
   "metadata": {},
   "source": [
    "Taking an example contract, we can compare the price with the Black-Scholes price. Do this for each contract in your list and find the one with the biggest discrepancy (hint: list comprehension is useful here!). For our purposes we'll just grab the first one."
   ]
  },
  {
   "cell_type": "code",
   "execution_count": 227,
   "id": "33552629-749f-4e0d-b4c6-00d68c04744d",
   "metadata": {},
   "outputs": [
    {
     "name": "stdout",
     "output_type": "stream",
     "text": [
      "The close price of the option is: 29.12\n",
      "The black-scholes price of the option is: 21.045806161655207\n"
     ]
    }
   ],
   "source": [
    "price = spx_price\n",
    "strike = ticker.contract.strike\n",
    "maturity = 37/365\n",
    "rfr = 0.03  # use shortterm libor!\n",
    "vol = std_SPY / mean_SPY\n",
    "\n",
    "opt_price = bs_price(price, strike, maturity, rfr, vol)\n",
    "\n",
    "print(f\"The close price of the option is: {ticker.close}\")\n",
    "print(f\"The black-scholes price of the option is: {opt_price}\")"
   ]
  },
  {
   "cell_type": "markdown",
   "id": "50942348-2e9c-43bd-b259-b6a7332b8757",
   "metadata": {},
   "source": [
    "**Note:** We will make parts 3-4 reusable by wrapping what we have done so far into a class that we can periodically instantiate and run it from [ta1.py](./ta1.py)\n",
    "\n",
    "The following steps outline how to rebalance periodically after the initial sell order has been made.\n"
   ]
  },
  {
   "cell_type": "markdown",
   "id": "b82db8f1-bb73-42e6-9eef-fb7f1b5e4b3b",
   "metadata": {},
   "source": [
    "3. At the beginning of the first trading day, sell 10 contracts of the call option with the largest mispricing. What would the proceeds from your trade be if the market price equals the BS option value? What are the actual proceeds from your trade?"
   ]
  },
  {
   "cell_type": "code",
   "execution_count": 228,
   "id": "34aed441-e853-486a-8c21-01b1dfc4a7df",
   "metadata": {},
   "outputs": [
    {
     "data": {
      "text/plain": [
       "[Position(account='DU6066633', contract=Stock(conId=756733, symbol='SPY', exchange='ARCA', currency='USD', localSymbol='SPY', tradingClass='SPY'), position=302.0, avgCost=390.4260927),\n",
       " Position(account='DU6066633', contract=Option(conId=564970818, symbol='SPY', lastTradeDateOrContractMonth='20221021', strike=390.0, right='C', multiplier='100', currency='USD', localSymbol='SPY   221021C00390000', tradingClass='SPY'), position=-10.0, avgCost=1255.26991)]"
      ]
     },
     "execution_count": 228,
     "metadata": {},
     "output_type": "execute_result"
    }
   ],
   "source": [
    "ib.positions()"
   ]
  },
  {
   "cell_type": "markdown",
   "id": "18fc025f-4e83-418f-a16c-785e7ce4ebd6",
   "metadata": {},
   "source": [
    "4. As soon as possible after executing the trade, you initiate a delta hedge for your options. The hedge will be rebalanced (adjusted) during the next four weeks, i.e., until the expiation date or until the hedged position is closed. \\n At initiation of your hedge, what is the delta for the call option? How many shares do you have to trade? Considering the proceeds from the options sale, how much would you have to you have to borrow (in real life) to finance a delta-neutral position. What is the interest cost incurred at the end of the first trading day?"
   ]
  },
  {
   "cell_type": "markdown",
   "id": "5af4abc0-13a7-4b2b-89da-e66b21ceb178",
   "metadata": {},
   "source": [
    "Alright, let's delta hedge! The option delta is simply the sensitivity of the option to a change in price in the underlying security. Mathematically that is represented as...\n",
    "\n",
    "$$\n",
    "delta = \\frac{\\partial V}{\\partial S}\n",
    "$$\n",
    "\n",
    "So we can simply grab the current delta from interactive using \"modelGreeks\" once we get the ticker..."
   ]
  },
  {
   "cell_type": "code",
   "execution_count": 229,
   "id": "1328dc0c-0e89-435e-9f6a-0a34d6b0bdda",
   "metadata": {},
   "outputs": [
    {
     "data": {
      "text/plain": [
       "Ticker(contract=Option(conId=564970818, symbol='SPY', lastTradeDateOrContractMonth='20221021', strike=390.0, right='C', multiplier='100', exchange='SMART', currency='USD', localSymbol='SPY   221021C00390000', tradingClass='SPY'), time=datetime.datetime(2022, 9, 23, 13, 38, 14, 213520, tzinfo=datetime.timezone.utc), marketDataType=3, bid=-1.0, bidSize=0.0, ask=-1.0, askSize=0.0, last=0.0, lastSize=0.0, volume=0.0, close=4.44, bidGreeks=OptionComputation(tickAttrib=0, impliedVol=0.2399558309154533, delta=None, optPrice=None, pvDividend=0.0, gamma=None, vega=None, theta=None, undPrice=369.0299987792969), askGreeks=OptionComputation(tickAttrib=0, impliedVol=0.2403004175221254, delta=None, optPrice=None, pvDividend=0.0, gamma=None, vega=None, theta=None, undPrice=369.0299987792969), lastGreeks=OptionComputation(tickAttrib=0, impliedVol=0.23976279285240834, delta=None, optPrice=None, pvDividend=0.0, gamma=None, vega=None, theta=None, undPrice=369.0299987792969), modelGreeks=OptionComputation(tickAttrib=0, impliedVol=0.24017566560810155, delta=0.22490270830076264, optPrice=3.106815484178877, pvDividend=0.0, gamma=0.012214346463513224, vega=0.30363475396970907, theta=-0.13847203322171703, undPrice=369.1099853515625))"
      ]
     },
     "execution_count": 229,
     "metadata": {},
     "output_type": "execute_result"
    }
   ],
   "source": [
    "# get current positions\n",
    "positions = [p for p in ib.positions() if p.contract.symbol == \"SPY\"]\n",
    "\n",
    "# ensure that you have an open option position\n",
    "opts = [p for p in positions if p.contract.secType == \"OPT\"]\n",
    "if not opts:\n",
    "    print(\"No option position to hedge\")\n",
    "option = opts[0]\n",
    "con = option.contract\n",
    "\n",
    "contracts = ib.qualifyContracts(con)\n",
    "ib.reqMarketDataType(4)\n",
    "[ticker] = ib.reqTickers(*contracts)\n",
    "ticker"
   ]
  },
  {
   "cell_type": "code",
   "execution_count": 231,
   "id": "1a486828-6860-43ec-a5f3-20c804466c84",
   "metadata": {},
   "outputs": [
    {
     "name": "stdout",
     "output_type": "stream",
     "text": [
      "The deltahedge trade needed is SPY: -77.0\n"
     ]
    }
   ],
   "source": [
    "# get the option delta from IB\n",
    "delta = ticker.modelGreeks.delta\n",
    "delta_neutral_pos = round(-option.position * delta * 100)\n",
    "\n",
    "# calculate the difference between the hedge requirement and the current position\n",
    "stks = [p for p in positions if p.contract.secType == \"STK\"]\n",
    "if stks:\n",
    "    hedge = delta_neutral_pos - stks[0].position\n",
    "else:\n",
    "    hedge = delta_neutral_pos\n",
    "print(f\"The deltahedge trade needed is SPY: {hedge}\")"
   ]
  },
  {
   "cell_type": "code",
   "execution_count": 232,
   "id": "82229a08-d36c-4472-b679-9ae167125f90",
   "metadata": {},
   "outputs": [],
   "source": [
    "# TODO: only execute the trade if the hedge outweighs the risk\n",
    "if abs(hedge) > 0:\n",
    "    if hedge > 0:\n",
    "        action = \"BUY\"\n",
    "    else:\n",
    "        action = \"SELL\"\n",
    "        \n",
    "    # return contract and order required to remain delta neutral\n",
    "    contract = Stock(\"SPY\", \"SMART\", \"USD\")\n",
    "    ib.qualifyContracts(contract)\n",
    "    order = MarketOrder(action, abs(hedge))\n",
    "    \n",
    "    # place trade\n",
    "    trade = ib.placeOrder(contract, order)\n",
    "    assert order in ib.orders()\n",
    "    assert trade in ib.trades()\n",
    "    while not trade.isDone():\n",
    "        ib.waitOnUpdate()\n",
    "else:\n",
    "    print(\"Already delta-neutral, no trade required.\")"
   ]
  },
  {
   "cell_type": "code",
   "execution_count": 233,
   "id": "98aeec54-4b25-44e4-9af9-181728eae663",
   "metadata": {},
   "outputs": [
    {
     "data": {
      "text/plain": [
       "[Position(account='DU6066633', contract=Stock(conId=756733, symbol='SPY', exchange='ARCA', currency='USD', localSymbol='SPY', tradingClass='SPY'), position=225.0, avgCost=390.4260927),\n",
       " Position(account='DU6066633', contract=Option(conId=564970818, symbol='SPY', lastTradeDateOrContractMonth='20221021', strike=390.0, right='C', multiplier='100', exchange='SMART', currency='USD', localSymbol='SPY   221021C00390000', tradingClass='SPY'), position=-10.0, avgCost=1255.26991)]"
      ]
     },
     "execution_count": 233,
     "metadata": {},
     "output_type": "execute_result"
    }
   ],
   "source": [
    "ib.positions()"
   ]
  },
  {
   "cell_type": "markdown",
   "id": "aa879aaf-54e0-4e8d-aa27-244380ea3fea",
   "metadata": {},
   "source": [
    "5. At least twice during each trading day for the next four weeks, rebalance your portfolio so that your risk exposure remains as close to delta neutral as possible. Remember transaction costs! Do not trade unless the stock has moved enough, i.e. more than a round-trip transaction costs!  (this part can be done with an algo)"
   ]
  },
  {
   "cell_type": "markdown",
   "id": "6cdbe6e1-90f3-4a99-9eab-6e00671722a9",
   "metadata": {},
   "source": [
    "6. In four weeks, the options are either exercised or expire with 0 value or the hedged position is closed. What is the value of your delta neutral position? Did you make or lost money? Explain why?"
   ]
  },
  {
   "cell_type": "code",
   "execution_count": null,
   "id": "92ffae3e-ee5a-413d-aff3-8840ae737a07",
   "metadata": {},
   "outputs": [],
   "source": [
    "ib.disconnect()"
   ]
  }
 ],
 "metadata": {
  "kernelspec": {
   "display_name": "Python 3 (ipykernel)",
   "language": "python",
   "name": "python3"
  },
  "language_info": {
   "codemirror_mode": {
    "name": "ipython",
    "version": 3
   },
   "file_extension": ".py",
   "mimetype": "text/x-python",
   "name": "python",
   "nbconvert_exporter": "python",
   "pygments_lexer": "ipython3",
   "version": "3.9.12"
  },
  "vscode": {
   "interpreter": {
    "hash": "4ae82d6772557206a20b5b1c955511bcd574119d1a64cb25ff88d6793250536d"
   }
  }
 },
 "nbformat": 4,
 "nbformat_minor": 5
}
