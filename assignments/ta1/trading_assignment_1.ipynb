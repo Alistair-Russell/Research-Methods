{
 "cells": [
  {
   "cell_type": "code",
   "execution_count": 1,
   "id": "fa2aae2b-2d1a-42a3-8c31-26cbc171e1c6",
   "metadata": {},
   "outputs": [],
   "source": [
    "from math import log, sqrt, exp\n",
    "import time\n",
    "import datetime as dt                   # date objects\n",
    "import numpy as np                      # array manipulation\n",
    "import matplotlib.pyplot as plot        # plotting\n",
    "import pandas as pd                     # data analysis\n",
    "import pandas_datareader as pdr\n",
    "from scipy.stats import norm  # normal cdf\n",
    "\n",
    "from ib_insync import *\n",
    "util.startLoop()"
   ]
  },
  {
   "cell_type": "markdown",
   "id": "14f5d2d9-9240-4652-b6e4-ad6d1f6825bb",
   "metadata": {},
   "source": [
    "#### Trading Assignment 1\n",
    "\n",
    "Go to https://finance.yahoo.com and download adjusted close daily prices (end of trading day prices adjusted for dividends and splits) for the period 03/15/2022 to 09/15/2022 for SPY ETF."
   ]
  },
  {
   "cell_type": "code",
   "execution_count": 2,
   "id": "06c06aa3-2c68-43ca-92d6-506b734f0d2b",
   "metadata": {},
   "outputs": [],
   "source": [
    "# pull data from \n",
    "source = 'yahoo'\n",
    "indicators = ['VOO']\n",
    "end_date = dt.date.today()\n",
    "start_date = end_date - dt.timedelta(days=365)\n",
    "raw_data = pdr.DataReader(indicators, source, start_date, end_date)\n",
    "data = raw_data['Adj Close']"
   ]
  },
  {
   "cell_type": "markdown",
   "id": "cfc83b84-1488-4063-bd97-a846491670cd",
   "metadata": {},
   "source": [
    "1. Calculate the annual volatility for the S&P500 index. Use 252 trading days."
   ]
  },
  {
   "cell_type": "code",
   "execution_count": 3,
   "id": "907d97dc-0c3d-429f-97a2-19302bf31780",
   "metadata": {},
   "outputs": [
    {
     "name": "stdout",
     "output_type": "stream",
     "text": [
      "Annual Volatility SPY: 25.082680765672922\n"
     ]
    }
   ],
   "source": [
    "std_SPY = data.tail(252).VOO.std()\n",
    "mean_SPY = data.tail(252).VOO.mean()\n",
    "print(f\"Annual Volatility SPY: {std_SPY}\")"
   ]
  },
  {
   "cell_type": "markdown",
   "id": "b1752bd6-7761-4385-a8e3-a9d9e4f48c74",
   "metadata": {},
   "source": [
    "2. Go to https://www.cboe.com/delayed_quotes/spy/quote_table and select five option contracts that are nearest to ATM with expiration as close as possible to 30 days and have open interest and volume of at least 1,000 contracts. Alternatively, connect to IB and download the option chain. (this part can be done with a bot)\n",
    "Using the volatility, you calculated in (1) and the Black-Scholes model, compute the “theoretical” prices of these call options."
   ]
  },
  {
   "cell_type": "code",
   "execution_count": 4,
   "id": "2ac4812f-a2d8-46e7-ad76-7b4f1343ab73",
   "metadata": {},
   "outputs": [
    {
     "name": "stdout",
     "output_type": "stream",
     "text": [
      "no ib connection to disconnect\n"
     ]
    },
    {
     "data": {
      "text/plain": [
       "<IB connected to 127.0.0.1:7497 clientId=1>"
      ]
     },
     "execution_count": 4,
     "metadata": {},
     "output_type": "execute_result"
    }
   ],
   "source": [
    "try:\n",
    "    ib.disconnect()\n",
    "    time.sleep(5)\n",
    "except:\n",
    "    print(\"no ib connection to disconnect\")\n",
    "\n",
    "# initialize connection to IBKR\n",
    "ib = IB()\n",
    "ib.connect('127.0.0.1', 7497, clientId=1)  # IB Trader Workstation\n",
    "#ib.connect('127.0.0.1', 4002, clientId=1)    # IB Gateway"
   ]
  },
  {
   "cell_type": "code",
   "execution_count": 5,
   "id": "e75a832e-d627-4453-ba93-98650682048f",
   "metadata": {},
   "outputs": [],
   "source": [
    "# create a contract for the underlying s&p500 index\n",
    "spx = Stock('VOO', 'SMART', 'USD')\n",
    "ib.qualifyContracts(spx)\n",
    "ib.reqMarketDataType(4)\n",
    "\n",
    "# grab the ticker\n",
    "[ticker] = ib.reqTickers(spx)\n",
    "spx_price = ticker.marketPrice()"
   ]
  },
  {
   "cell_type": "code",
   "execution_count": 6,
   "id": "01b080f9-ef95-41b7-9540-dabdf5974c17",
   "metadata": {},
   "outputs": [],
   "source": [
    "# generate the option chain\n",
    "opt_chain = ib.reqSecDefOptParams(spx.symbol, '', spx.secType, spx.conId)\n",
    "chain = next(c for c in opt_chain if c.tradingClass == 'VOO' and c.exchange == 'SMART')\n",
    "\n",
    "# filter strikes for those close to in the money\n",
    "strikes = [s for s in chain.strikes\n",
    "           if spx_price - 20 < s < spx_price + 20]\n",
    "\n",
    "expirations = sorted(exp for exp in chain.expirations)[:2]\n",
    "\n",
    "rights = ['C']\n",
    "\n",
    "contracts = [Option('VOO', expiration, strike, right, 'SMART', tradingClass='VOO')\n",
    "        for right in rights\n",
    "        for expiration in expirations\n",
    "        for strike in strikes]\n",
    "contracts = ib.qualifyContracts(*contracts)\n",
    "#ib.reqMarketDataType(4)"
   ]
  },
  {
   "cell_type": "code",
   "execution_count": 7,
   "id": "ae623227-e402-4dcd-baf2-460647afeef3",
   "metadata": {},
   "outputs": [
    {
     "data": {
      "text/plain": [
       "[Option(conId=573941383, symbol='VOO', lastTradeDateOrContractMonth='20220916', strike=345.0, right='C', multiplier='100', exchange='SMART', currency='USD', localSymbol='VOO   220916C00345000', tradingClass='VOO'),\n",
       " Option(conId=573941418, symbol='VOO', lastTradeDateOrContractMonth='20220916', strike=350.0, right='C', multiplier='100', exchange='SMART', currency='USD', localSymbol='VOO   220916C00350000', tradingClass='VOO'),\n",
       " Option(conId=573941458, symbol='VOO', lastTradeDateOrContractMonth='20220916', strike=355.0, right='C', multiplier='100', exchange='SMART', currency='USD', localSymbol='VOO   220916C00355000', tradingClass='VOO'),\n",
       " Option(conId=573941493, symbol='VOO', lastTradeDateOrContractMonth='20220916', strike=360.0, right='C', multiplier='100', exchange='SMART', currency='USD', localSymbol='VOO   220916C00360000', tradingClass='VOO'),\n",
       " Option(conId=573941535, symbol='VOO', lastTradeDateOrContractMonth='20220916', strike=365.0, right='C', multiplier='100', exchange='SMART', currency='USD', localSymbol='VOO   220916C00365000', tradingClass='VOO'),\n",
       " Option(conId=573941573, symbol='VOO', lastTradeDateOrContractMonth='20220916', strike=370.0, right='C', multiplier='100', exchange='SMART', currency='USD', localSymbol='VOO   220916C00370000', tradingClass='VOO'),\n",
       " Option(conId=573941613, symbol='VOO', lastTradeDateOrContractMonth='20220916', strike=375.0, right='C', multiplier='100', exchange='SMART', currency='USD', localSymbol='VOO   220916C00375000', tradingClass='VOO'),\n",
       " Option(conId=573941656, symbol='VOO', lastTradeDateOrContractMonth='20220916', strike=380.0, right='C', multiplier='100', exchange='SMART', currency='USD', localSymbol='VOO   220916C00380000', tradingClass='VOO'),\n",
       " Option(conId=545580776, symbol='VOO', lastTradeDateOrContractMonth='20221021', strike=345.0, right='C', multiplier='100', exchange='SMART', currency='USD', localSymbol='VOO   221021C00345000', tradingClass='VOO'),\n",
       " Option(conId=545580808, symbol='VOO', lastTradeDateOrContractMonth='20221021', strike=350.0, right='C', multiplier='100', exchange='SMART', currency='USD', localSymbol='VOO   221021C00350000', tradingClass='VOO')]"
      ]
     },
     "execution_count": 7,
     "metadata": {},
     "output_type": "execute_result"
    }
   ],
   "source": [
    "contracts[:10]"
   ]
  },
  {
   "cell_type": "code",
   "execution_count": 8,
   "id": "b8958373-7784-4dd2-9da4-5a48b76b99a1",
   "metadata": {},
   "outputs": [
    {
     "data": {
      "text/plain": [
       "Ticker(contract=Option(conId=545580776, symbol='VOO', lastTradeDateOrContractMonth='20221021', strike=345.0, right='C', multiplier='100', exchange='SMART', currency='USD', localSymbol='VOO   221021C00345000', tradingClass='VOO'), time=datetime.datetime(2022, 9, 14, 17, 26, 19, 991759, tzinfo=datetime.timezone.utc), marketDataType=3, bid=22.5, bidSize=3357.0, ask=23.1, askSize=1252.0, last=0.0, lastSize=0.0, volume=0.0, close=21.75, bidGreeks=OptionComputation(tickAttrib=0, impliedVol=0.25923765122873504, delta=0.7470886959288471, optPrice=22.5, pvDividend=1.5961177143034238, gamma=0.011484208404046686, vega=0.38133644286133617, theta=-0.15886094266356568, undPrice=362.9100036621094), askGreeks=OptionComputation(tickAttrib=0, impliedVol=0.27749564667282656, delta=0.7334455492548493, optPrice=23.100000381469727, pvDividend=1.5961177143034238, gamma=0.010893225376620458, vega=0.3823187223720552, theta=-0.17037651665547965, undPrice=362.9100036621094), lastGreeks=OptionComputation(tickAttrib=0, impliedVol=None, delta=None, optPrice=None, pvDividend=1.5961177143034238, gamma=None, vega=None, theta=None, undPrice=362.8800048828125), modelGreeks=OptionComputation(tickAttrib=0, impliedVol=0.26390028936015025, delta=0.7434154199183308, optPrice=22.606963978657397, pvDividend=1.5961177143034238, gamma=0.0113279886493286, vega=0.38160743330368874, theta=-0.1617984720467948, undPrice=362.9100036621094))"
      ]
     },
     "execution_count": 8,
     "metadata": {},
     "output_type": "execute_result"
    }
   ],
   "source": [
    "# grab an example contract\n",
    "call = contracts[8]\n",
    "[ticker] = ib.reqTickers(call)\n",
    "ticker"
   ]
  },
  {
   "cell_type": "code",
   "execution_count": 9,
   "id": "2a7a3823-07a9-4dec-a0d4-cde4f2abe298",
   "metadata": {},
   "outputs": [],
   "source": [
    "# now calculate the theoretical prices of these options using BS\n",
    "\n",
    "def bs_price(S, K, T, r, sigma, opt=\"c\"):\n",
    "    \"\"\"Price an option with the black-scholes model\n",
    "\n",
    "    Args:\n",
    "        S (float): Price of the underlying security\n",
    "        K (float): Strike price\n",
    "        T (float): time to maturity\n",
    "        r (float): risk free interest rate\n",
    "        sigma (float): volatility of the underlying security\n",
    "        opt (str, optional): option type. Defaults to \"C\" (call)\n",
    "\n",
    "    Returns:\n",
    "        float: the black-scholes price of the option\n",
    "    \"\"\"\n",
    "    d1 = (np.log(S / K) + (r + sigma**2 / 2.0) * T) / (sigma * np.sqrt(T))\n",
    "    d2 = d1 - sigma * np.sqrt(T)\n",
    "\n",
    "    if opt == \"c\":\n",
    "        bs_price = S * norm.cdf(d1) - K * np.exp(-r * T) * norm.cdf(d2)\n",
    "    elif opt == \"p\":\n",
    "        bs_price = K * np.exp(-r * T) * norm.cdf(-d2) - S * norm.cdf(-d1)\n",
    "    else:\n",
    "        bs_price = None\n",
    "    return bs_price\n"
   ]
  },
  {
   "cell_type": "markdown",
   "id": "240bc456-00cd-41d7-a17f-62c4211db261",
   "metadata": {},
   "source": [
    "Taking an example contract, we can compare the price with the Black-Scholes price. Do this for each contract in your list and find the one with the biggest discrepancy (hint: list comprehension is useful here!). For our purposes we'll just grab the first one."
   ]
  },
  {
   "cell_type": "code",
   "execution_count": 10,
   "id": "33552629-749f-4e0d-b4c6-00d68c04744d",
   "metadata": {},
   "outputs": [
    {
     "name": "stdout",
     "output_type": "stream",
     "text": [
      "The close price of the option is: 21.75\n",
      "The black-scholes price of the option is: 19.006499729112534\n"
     ]
    }
   ],
   "source": [
    "price = spx_price\n",
    "strike = ticker.contract.strike\n",
    "maturity = 37/365\n",
    "rfr = 0.03\n",
    "vol = std_SPY / mean_SPY\n",
    "\n",
    "opt_price = bs_price(price, strike, maturity, rfr, vol)\n",
    "\n",
    "print(f\"The close price of the option is: {ticker.close}\")\n",
    "print(f\"The black-scholes price of the option is: {opt_price}\")"
   ]
  },
  {
   "cell_type": "markdown",
   "id": "50942348-2e9c-43bd-b259-b6a7332b8757",
   "metadata": {},
   "source": [
    "**Note:** We'll continue parts 3-4 by wrapping what we have done so far into a class that we can periodically instantiate and run it from [ta1.py](./ta1.py) "
   ]
  },
  {
   "cell_type": "markdown",
   "id": "b82db8f1-bb73-42e6-9eef-fb7f1b5e4b3b",
   "metadata": {},
   "source": [
    "3. At the beginning of the first trading day, sell 10 contracts of the call option with the largest mispricing. What would the proceeds from your trade be if the market price equals the BS option value? What are the actual proceeds from your trade?"
   ]
  },
  {
   "cell_type": "code",
   "execution_count": 11,
   "id": "34aed441-e853-486a-8c21-01b1dfc4a7df",
   "metadata": {},
   "outputs": [
    {
     "data": {
      "text/plain": [
       "[Position(account='DU6059326', contract=Option(conId=545580776, symbol='VOO', lastTradeDateOrContractMonth='20221021', strike=345.0, right='C', multiplier='100', currency='USD', localSymbol='VOO   221021C00345000', tradingClass='VOO'), position=-10.0, avgCost=2249.8897145)]"
      ]
     },
     "execution_count": 11,
     "metadata": {},
     "output_type": "execute_result"
    }
   ],
   "source": [
    "# collect our option contract and make our market order\n",
    "contr = call\n",
    "order = MarketOrder('SELL', 10)\n",
    "\n",
    "trade = ib.placeOrder(contr, order)\n",
    "\n",
    "# some assertions to ensure our trade has been placed\n",
    "assert order in ib.orders()\n",
    "assert trade in ib.trades()\n",
    "\n",
    "while not trade.isDone():\n",
    "    ib.waitOnUpdate()\n",
    "    \n",
    "ib.positions()"
   ]
  },
  {
   "cell_type": "markdown",
   "id": "18fc025f-4e83-418f-a16c-785e7ce4ebd6",
   "metadata": {},
   "source": [
    "4. As soon as possible after executing the trade, you initiate a delta hedge for your options. The hedge will be rebalanced (adjusted) during the next four weeks, i.e., until the expiation date or until the hedged position is closed. \\n At initiation of your hedge, what is the delta for the call option? How many shares do you have to trade? Considering the proceeds from the options sale, how much would you have to you have to borrow (in real life) to finance a delta-neutral position. What is the interest cost incurred at the end of the first trading day?"
   ]
  },
  {
   "cell_type": "markdown",
   "id": "5af4abc0-13a7-4b2b-89da-e66b21ceb178",
   "metadata": {},
   "source": [
    "Alright, let's delta hedge! The option delta is simply the sensitivity of the option to a change in price in the underlying security. Mathematically that is represented as...\n",
    "\n",
    "$$\n",
    "delta = \\frac{\\partial V}{\\partial S}\n",
    "$$\n",
    "\n",
    "So we can simply take the derivative of the black scholes function we have above..."
   ]
  },
  {
   "cell_type": "code",
   "execution_count": 12,
   "id": "91ac5ba9-c593-4e30-b36c-244c7d5bac42",
   "metadata": {},
   "outputs": [],
   "source": [
    "def bs_delta(S, K, T, r, sigma, opt=\"C\"):\n",
    "    \"\"\"Calculate the black-scholes delta of the option\n",
    "\n",
    "    Args:\n",
    "        S (float): Price of the underlying security\n",
    "        K (float): Strike price\n",
    "        T (float): time to maturity\n",
    "        r (float): risk free interest rate\n",
    "        sigma (float): volatility of the underlying security\n",
    "        opt (str, optional): option type. Defaults to \"C\" (call)\n",
    "\n",
    "    Returns:\n",
    "        float: the black-scholes delta of the option\n",
    "    \"\"\"\n",
    "    d1 = (np.log(S / K) + (r + sigma**2 / 2.0) * T) / (sigma * np.sqrt(T))\n",
    "\n",
    "    if opt == \"C\":\n",
    "        bs_delta = norm.cdf(d1)\n",
    "    elif opt == \"P\":\n",
    "        bs_delta = -norm.cdf(-d1)\n",
    "    else:\n",
    "        bs_delta = None\n",
    "    return bs_delta\n"
   ]
  },
  {
   "cell_type": "code",
   "execution_count": 13,
   "id": "387ff1f7-1be2-4605-a659-6578c8badce2",
   "metadata": {},
   "outputs": [
    {
     "name": "stdout",
     "output_type": "stream",
     "text": [
      "The delta of the option is: 0.7434154199183308\n",
      "The black-scholes delta of the option is: 0.996103025578386\n"
     ]
    }
   ],
   "source": [
    "# let's compare this to the delta provided by the IB modelGreeks functionality\n",
    "opt_delta = bs_delta(price, strike, maturity, rfr, vol)\n",
    "\n",
    "print(f\"The delta of the option is: {ticker.modelGreeks.delta}\")\n",
    "print(f\"The black-scholes delta of the option is: {opt_delta}\")"
   ]
  },
  {
   "cell_type": "code",
   "execution_count": 14,
   "id": "1328dc0c-0e89-435e-9f6a-0a34d6b0bdda",
   "metadata": {},
   "outputs": [],
   "source": [
    "# get current positions\n",
    "positions = [p for p in ib.positions() if p.contract.symbol == \"VOO\"]\n",
    "\n",
    "# ensure that you have an open option position\n",
    "opts = [p for p in positions if p.contract.secType == \"OPT\"]\n",
    "if not opts:\n",
    "    print(\"No option position to hedge\")\n",
    "option = opts[0]\n",
    "\n",
    "delta = ticker.modelGreeks.delta\n",
    "delta_neutral_pos = round(-option.position * delta * 100)\n",
    "\n",
    "# calculate the difference between the hedge requirement and the current position\n",
    "stks = [p for p in positions if p.contract.secType == \"STK\"]\n",
    "if stks:\n",
    "    hedge = delta_neutral_pos - stks[0].position\n",
    "else:\n",
    "    hedge = delta_neutral_pos\n"
   ]
  },
  {
   "cell_type": "code",
   "execution_count": 15,
   "id": "82229a08-d36c-4472-b679-9ae167125f90",
   "metadata": {},
   "outputs": [],
   "source": [
    "# TODO: only execute the trade if the hedge outweighs the risk\n",
    "if hedge > 0:\n",
    "    # return contract and order required to remain delta neutral\n",
    "    contract = Stock(\"VOO\", \"SMART\", \"USD\")\n",
    "    order = MarketOrder(\"BUY\", hedge)\n",
    "\n",
    "    # place trade\n",
    "    trade = ib.placeOrder(contract, order)\n",
    "    assert order in ib.orders()\n",
    "    assert trade in ib.trades()\n",
    "    while not trade.isDone():\n",
    "        ib.waitOnUpdate()\n",
    "else:\n",
    "    print(\"Already delta-neutral, no trade required.\")"
   ]
  },
  {
   "cell_type": "code",
   "execution_count": 16,
   "id": "98aeec54-4b25-44e4-9af9-181728eae663",
   "metadata": {},
   "outputs": [
    {
     "data": {
      "text/plain": [
       "[Position(account='DU6059326', contract=Option(conId=545580776, symbol='VOO', lastTradeDateOrContractMonth='20221021', strike=345.0, right='C', multiplier='100', currency='USD', localSymbol='VOO   221021C00345000', tradingClass='VOO'), position=-10.0, avgCost=2249.2471450000003),\n",
       " Position(account='DU6059326', contract=Stock(conId=136155102, symbol='VOO', exchange='ARCA', currency='USD', localSymbol='VOO', tradingClass='VOO'), position=743.0, avgCost=362.9373082099596)]"
      ]
     },
     "execution_count": 16,
     "metadata": {},
     "output_type": "execute_result"
    }
   ],
   "source": [
    "ib.positions()"
   ]
  },
  {
   "cell_type": "markdown",
   "id": "aa879aaf-54e0-4e8d-aa27-244380ea3fea",
   "metadata": {},
   "source": [
    "5. At least twice during each trading day for the next four weeks, rebalance your portfolio so that your risk exposure remains as close to delta neutral as possible. Remember transaction costs! Do not trade unless the stock has moved enough, i.e. more than a round-trip transaction costs!  (this part can be done with an algo)"
   ]
  },
  {
   "cell_type": "markdown",
   "id": "6cdbe6e1-90f3-4a99-9eab-6e00671722a9",
   "metadata": {},
   "source": [
    "6. In four weeks, the options are either exercised or expire with 0 value or the hedged position is closed. What is the value of your delta neutral position? Did you make or lost money? Explain why?"
   ]
  },
  {
   "cell_type": "code",
   "execution_count": 17,
   "id": "92ffae3e-ee5a-413d-aff3-8840ae737a07",
   "metadata": {},
   "outputs": [],
   "source": [
    "ib.disconnect()"
   ]
  }
 ],
 "metadata": {
  "kernelspec": {
   "display_name": "Python 3 (ipykernel)",
   "language": "python",
   "name": "python3"
  },
  "language_info": {
   "codemirror_mode": {
    "name": "ipython",
    "version": 3
   },
   "file_extension": ".py",
   "mimetype": "text/x-python",
   "name": "python",
   "nbconvert_exporter": "python",
   "pygments_lexer": "ipython3",
   "version": "3.9.12"
  },
  "vscode": {
   "interpreter": {
    "hash": "4ae82d6772557206a20b5b1c955511bcd574119d1a64cb25ff88d6793250536d"
   }
  }
 },
 "nbformat": 4,
 "nbformat_minor": 5
}
