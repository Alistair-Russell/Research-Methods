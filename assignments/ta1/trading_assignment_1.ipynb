{
 "cells": [
  {
   "cell_type": "code",
   "execution_count": 41,
   "id": "fa2aae2b-2d1a-42a3-8c31-26cbc171e1c6",
   "metadata": {},
   "outputs": [],
   "source": [
    "from math import log, sqrt, exp\n",
    "import time\n",
    "import datetime as dt                   # date objects\n",
    "import numpy as np                      # array manipulation\n",
    "import matplotlib.pyplot as plot        # plotting\n",
    "import pandas as pd                     # data analysis\n",
    "import pandas_datareader as pdr\n",
    "from scipy.stats import norm  # normal cdf\n",
    "\n",
    "from ib_insync import *\n",
    "util.startLoop()"
   ]
  },
  {
   "cell_type": "markdown",
   "id": "14f5d2d9-9240-4652-b6e4-ad6d1f6825bb",
   "metadata": {},
   "source": [
    "#### Trading Assignment 1\n",
    "\n",
    "Go to https://finance.yahoo.com and download adjusted close daily prices (end of trading day prices adjusted for dividends and splits) for the period 03/15/2022 to 09/15/2022 for SPY ETF."
   ]
  },
  {
   "cell_type": "code",
   "execution_count": 42,
   "id": "06c06aa3-2c68-43ca-92d6-506b734f0d2b",
   "metadata": {},
   "outputs": [],
   "source": [
    "# pull data from \n",
    "source = 'yahoo'\n",
    "indicators = ['SPY']\n",
    "end_date = dt.date.today()\n",
    "start_date = end_date - dt.timedelta(days=365)\n",
    "raw_data = pdr.DataReader(indicators, source, start_date, end_date)\n",
    "data = raw_data['Adj Close']"
   ]
  },
  {
   "cell_type": "markdown",
   "id": "cfc83b84-1488-4063-bd97-a846491670cd",
   "metadata": {},
   "source": [
    "1. Calculate the annual volatility for the S&P500 index. Use 252 trading days."
   ]
  },
  {
   "cell_type": "code",
   "execution_count": 43,
   "id": "907d97dc-0c3d-429f-97a2-19302bf31780",
   "metadata": {},
   "outputs": [
    {
     "name": "stdout",
     "output_type": "stream",
     "text": [
      "Annual Volatility SPY: 29.373467643093235\n"
     ]
    }
   ],
   "source": [
    "std_SPY = data.tail(252).SPY.std()\n",
    "mean_SPY = data.tail(252).SPY.mean()\n",
    "print(f\"Annual Volatility SPY: {std_SPY}\")"
   ]
  },
  {
   "cell_type": "markdown",
   "id": "b1752bd6-7761-4385-a8e3-a9d9e4f48c74",
   "metadata": {},
   "source": [
    "2. Go to https://www.cboe.com/delayed_quotes/spy/quote_table and select five option contracts that are nearest to ATM with expiration as close as possible to 30 days and have open interest and volume of at least 1,000 contracts. Alternatively, connect to IB and download the option chain. (this part can be done with a bot)\n",
    "Using the volatility, you calculated in (1) and the Black-Scholes model, compute the “theoretical” prices of these call options."
   ]
  },
  {
   "cell_type": "code",
   "execution_count": 44,
   "id": "2ac4812f-a2d8-46e7-ad76-7b4f1343ab73",
   "metadata": {},
   "outputs": [
    {
     "data": {
      "text/plain": [
       "<IB connected to 127.0.0.1:7497 clientId=1>"
      ]
     },
     "execution_count": 44,
     "metadata": {},
     "output_type": "execute_result"
    }
   ],
   "source": [
    "try:\n",
    "    ib.disconnect()\n",
    "    time.sleep(5)\n",
    "except:\n",
    "    print(\"no ib connection to disconnect\")\n",
    "\n",
    "# initialize connection to IBKR\n",
    "ib = IB()\n",
    "ib.connect('127.0.0.1', 7497, clientId=1)  # IB Trader Workstation\n",
    "#ib.connect('127.0.0.1', 4002, clientId=1)    # IB Gateway"
   ]
  },
  {
   "cell_type": "code",
   "execution_count": 45,
   "id": "39ea6e24-ab5f-4019-aad9-c82e00d722a9",
   "metadata": {
    "tags": []
   },
   "outputs": [
    {
     "data": {
      "text/plain": [
       "[Position(account='DU6066633', contract=Stock(conId=756733, symbol='SPY', exchange='ARCA', currency='USD', localSymbol='SPY', tradingClass='SPY'), position=117.0, avgCost=387.48679485),\n",
       " Position(account='DU6066633', contract=Option(conId=564970818, symbol='SPY', lastTradeDateOrContractMonth='20221021', strike=390.0, right='C', multiplier='100', currency='USD', localSymbol='SPY   221021C00390000', tradingClass='SPY'), position=-10.0, avgCost=1255.26991)]"
      ]
     },
     "execution_count": 45,
     "metadata": {},
     "output_type": "execute_result"
    }
   ],
   "source": [
    "ib.positions()"
   ]
  },
  {
   "cell_type": "code",
   "execution_count": 46,
   "id": "e75a832e-d627-4453-ba93-98650682048f",
   "metadata": {},
   "outputs": [],
   "source": [
    "# create a contract for the underlying s&p500 index\n",
    "spx = Stock('SPY', 'SMART', 'USD')\n",
    "ib.qualifyContracts(spx)\n",
    "ib.reqMarketDataType(4)\n",
    "\n",
    "# grab the ticker\n",
    "[ticker] = ib.reqTickers(spx)\n",
    "spx_price = ticker.marketPrice()"
   ]
  },
  {
   "cell_type": "code",
   "execution_count": 47,
   "id": "01b080f9-ef95-41b7-9540-dabdf5974c17",
   "metadata": {},
   "outputs": [],
   "source": [
    "# generate the option chain\n",
    "opt_chain = ib.reqSecDefOptParams(spx.symbol, '', spx.secType, spx.conId)\n",
    "chain = next(c for c in opt_chain if c.tradingClass == 'SPY' and c.exchange == 'SMART')\n",
    "\n",
    "# filter strikes for those close to in the money\n",
    "strikes = [s for s in chain.strikes\n",
    "           if spx_price - 20 < s < spx_price + 20]\n",
    "\n",
    "expirations = sorted(exp for exp in chain.expirations)[:3]\n",
    "expirations = ['20221021']\n",
    "\n",
    "rights = ['C']\n",
    "\n",
    "contracts = [Option('SPY', expiration, strike, right, 'SMART', tradingClass='SPY')\n",
    "        for right in rights\n",
    "        for expiration in expirations\n",
    "        for strike in strikes]\n",
    "contracts = ib.qualifyContracts(*contracts)\n",
    "ib.reqMarketDataType(4)"
   ]
  },
  {
   "cell_type": "code",
   "execution_count": 48,
   "id": "b8958373-7784-4dd2-9da4-5a48b76b99a1",
   "metadata": {},
   "outputs": [
    {
     "data": {
      "text/plain": [
       "Ticker(contract=Option(conId=565285904, symbol='SPY', lastTradeDateOrContractMonth='20221021', strike=345.0, right='C', multiplier='100', exchange='SMART', currency='USD', localSymbol='SPY   221021C00345000', tradingClass='SPY'), time=datetime.datetime(2022, 9, 30, 14, 45, 12, 402269, tzinfo=datetime.timezone.utc), marketDataType=3, bid=22.56, bidSize=6.0, ask=22.59, askSize=81.0, last=21.1, lastSize=1.0, volume=1.0, high=21.1, low=21.1, close=22.86, bidGreeks=OptionComputation(tickAttrib=0, impliedVol=0.31435788076266324, delta=0.7793832143585, optPrice=22.559999465942383, pvDividend=0.0, gamma=0.01077165145770374, vega=0.2624713670578913, theta=-0.21592657834745604, undPrice=364.0249938964844), askGreeks=OptionComputation(tickAttrib=0, impliedVol=0.3154902820577127, delta=0.7786382969470584, optPrice=22.59000015258789, pvDividend=0.0, gamma=0.010753683392364025, vega=0.262501514397929, theta=-0.2169704225146334, undPrice=364.0249938964844), lastGreeks=OptionComputation(tickAttrib=0, impliedVol=None, delta=None, optPrice=21.100000381469727, pvDividend=0.0, gamma=None, vega=None, theta=None, undPrice=364.1000061035156), modelGreeks=OptionComputation(tickAttrib=0, impliedVol=0.3149476516861136, delta=0.7789404426222881, optPrice=23.31669196948328, pvDividend=0.0, gamma=0.010763950428487244, vega=0.26248642738437766, theta=-0.21649295040681588, undPrice=364.0199890136719))"
      ]
     },
     "execution_count": 48,
     "metadata": {},
     "output_type": "execute_result"
    }
   ],
   "source": [
    "# grab an example contract\n",
    "call = contracts[0]\n",
    "[ticker] = ib.reqTickers(call)\n",
    "ticker"
   ]
  },
  {
   "cell_type": "code",
   "execution_count": 49,
   "id": "2a7a3823-07a9-4dec-a0d4-cde4f2abe298",
   "metadata": {
    "tags": []
   },
   "outputs": [],
   "source": [
    "# now calculate the theoretical prices of these options using BS\n",
    "\n",
    "def bs_price(S, K, T, r, sigma, opt=\"c\"):\n",
    "    \"\"\"Price an option with the black-scholes model\n",
    "\n",
    "    Args:\n",
    "        S (float): Price of the underlying security\n",
    "        K (float): Strike price\n",
    "        T (float): time to maturity\n",
    "        r (float): risk free interest rate\n",
    "        sigma (float): volatility of the underlying security\n",
    "        opt (str, optional): option type. Defaults to \"C\" (call)\n",
    "\n",
    "    Returns:\n",
    "        float: the black-scholes price of the option\n",
    "    \"\"\"\n",
    "    d1 = (np.log(S / K) + (r + sigma**2 / 2.0) * T) / (sigma * np.sqrt(T))\n",
    "    d2 = d1 - sigma * np.sqrt(T)\n",
    "\n",
    "    if opt == \"c\":\n",
    "        bs_price = S * norm.cdf(d1) - K * np.exp(-r * T) * norm.cdf(d2)\n",
    "    elif opt == \"p\":\n",
    "        bs_price = K * np.exp(-r * T) * norm.cdf(-d2) - S * norm.cdf(-d1)\n",
    "    else:\n",
    "        bs_price = None\n",
    "    return bs_price\n"
   ]
  },
  {
   "cell_type": "markdown",
   "id": "240bc456-00cd-41d7-a17f-62c4211db261",
   "metadata": {},
   "source": [
    "Taking an example contract, we can compare the price with the Black-Scholes price. Do this for each contract in your list and find the one with the biggest discrepancy (hint: list comprehension is useful here!). For our purposes we'll just grab the first one."
   ]
  },
  {
   "cell_type": "code",
   "execution_count": 50,
   "id": "33552629-749f-4e0d-b4c6-00d68c04744d",
   "metadata": {},
   "outputs": [
    {
     "name": "stdout",
     "output_type": "stream",
     "text": [
      "The close price of the option is: 22.86\n",
      "The black-scholes price of the option is: 20.060267977088586\n"
     ]
    }
   ],
   "source": [
    "price = spx_price\n",
    "strike = ticker.contract.strike\n",
    "maturity = 37/365\n",
    "rfr = 0.03  # use shortterm libor!\n",
    "vol = std_SPY / mean_SPY\n",
    "\n",
    "opt_price = bs_price(price, strike, maturity, rfr, vol)\n",
    "\n",
    "print(f\"The close price of the option is: {ticker.close}\")\n",
    "print(f\"The black-scholes price of the option is: {opt_price}\")"
   ]
  },
  {
   "cell_type": "markdown",
   "id": "50942348-2e9c-43bd-b259-b6a7332b8757",
   "metadata": {},
   "source": [
    "**Note:** We will make parts 3-4 reusable by wrapping what we have done so far into a class that we can periodically instantiate and run it from [ta1.py](./ta1.py)\n",
    "\n",
    "The following steps outline how to rebalance periodically after the initial sell order has been made.\n"
   ]
  },
  {
   "cell_type": "markdown",
   "id": "b82db8f1-bb73-42e6-9eef-fb7f1b5e4b3b",
   "metadata": {},
   "source": [
    "3. At the beginning of the first trading day, sell 10 contracts of the call option with the largest mispricing. What would the proceeds from your trade be if the market price equals the BS option value? What are the actual proceeds from your trade?"
   ]
  },
  {
   "cell_type": "code",
   "execution_count": 51,
   "id": "34aed441-e853-486a-8c21-01b1dfc4a7df",
   "metadata": {},
   "outputs": [
    {
     "data": {
      "text/plain": [
       "[Position(account='DU6066633', contract=Stock(conId=756733, symbol='SPY', exchange='ARCA', currency='USD', localSymbol='SPY', tradingClass='SPY'), position=117.0, avgCost=387.48679485),\n",
       " Position(account='DU6066633', contract=Option(conId=564970818, symbol='SPY', lastTradeDateOrContractMonth='20221021', strike=390.0, right='C', multiplier='100', currency='USD', localSymbol='SPY   221021C00390000', tradingClass='SPY'), position=-10.0, avgCost=1255.26991)]"
      ]
     },
     "execution_count": 51,
     "metadata": {},
     "output_type": "execute_result"
    }
   ],
   "source": [
    "ib.positions()"
   ]
  },
  {
   "cell_type": "markdown",
   "id": "18fc025f-4e83-418f-a16c-785e7ce4ebd6",
   "metadata": {},
   "source": [
    "4. As soon as possible after executing the trade, you initiate a delta hedge for your options. The hedge will be rebalanced (adjusted) during the next four weeks, i.e., until the expiation date or until the hedged position is closed. \\n At initiation of your hedge, what is the delta for the call option? How many shares do you have to trade? Considering the proceeds from the options sale, how much would you have to you have to borrow (in real life) to finance a delta-neutral position. What is the interest cost incurred at the end of the first trading day?"
   ]
  },
  {
   "cell_type": "markdown",
   "id": "5af4abc0-13a7-4b2b-89da-e66b21ceb178",
   "metadata": {},
   "source": [
    "Alright, let's delta hedge! The option delta is simply the sensitivity of the option to a change in price in the underlying security. Mathematically that is represented as...\n",
    "\n",
    "$$\n",
    "delta = \\frac{\\partial V}{\\partial S}\n",
    "$$\n",
    "\n",
    "So we can simply grab the current delta from interactive using \"modelGreeks\" once we get the ticker..."
   ]
  },
  {
   "cell_type": "code",
   "execution_count": 52,
   "id": "1328dc0c-0e89-435e-9f6a-0a34d6b0bdda",
   "metadata": {},
   "outputs": [
    {
     "data": {
      "text/plain": [
       "Ticker(contract=Option(conId=564970818, symbol='SPY', lastTradeDateOrContractMonth='20221021', strike=390.0, right='C', multiplier='100', exchange='SMART', currency='USD', localSymbol='SPY   221021C00390000', tradingClass='SPY'), time=datetime.datetime(2022, 9, 30, 14, 45, 15, 93147, tzinfo=datetime.timezone.utc), marketDataType=3, bid=1.18, bidSize=1070.0, ask=1.19, askSize=5295.0, last=1.15, lastSize=3.0, volume=2415.0, high=1.28, low=1.02, close=1.36, bidGreeks=OptionComputation(tickAttrib=0, impliedVol=0.23534505471323391, delta=0.12435975368004751, optPrice=1.1799999475479126, pvDividend=0.0, gamma=0.009981165394986957, vega=0.19800914881600318, theta=-0.10426069997993533, undPrice=364.1499938964844), askGreeks=OptionComputation(tickAttrib=0, impliedVol=0.23596175869259947, delta=0.12493943081185128, optPrice=1.190000057220459, pvDividend=0.0, gamma=0.009990124757623951, vega=0.20068868830228914, theta=-0.10489584789466631, undPrice=364.1499938964844), lastGreeks=OptionComputation(tickAttrib=0, impliedVol=0.2351852191117972, delta=0.12420900926032932, optPrice=1.149999976158142, pvDividend=0.0, gamma=0.009978805052017425, vega=0.19731463265627003, theta=-0.10409606289011468, undPrice=364.1499938964844), modelGreeks=OptionComputation(tickAttrib=0, impliedVol=0.2358044344371511, delta=0.1247918457293216, optPrice=1.2529069652312337, pvDividend=0.0, gamma=0.009987861363623566, vega=0.2000051480791445, theta=-0.1047338308350913, undPrice=364.1499938964844))"
      ]
     },
     "execution_count": 52,
     "metadata": {},
     "output_type": "execute_result"
    }
   ],
   "source": [
    "# get current positions\n",
    "positions = [p for p in ib.positions() if p.contract.symbol == \"SPY\"]\n",
    "\n",
    "# ensure that you have an open option position\n",
    "opts = [p for p in positions if p.contract.secType == \"OPT\"]\n",
    "if not opts:\n",
    "    print(\"No option position to hedge\")\n",
    "option = opts[0]\n",
    "con = option.contract\n",
    "\n",
    "contracts = ib.qualifyContracts(con)\n",
    "ib.reqMarketDataType(4)\n",
    "[ticker] = ib.reqTickers(*contracts)\n",
    "ticker"
   ]
  },
  {
   "cell_type": "code",
   "execution_count": 53,
   "id": "1a486828-6860-43ec-a5f3-20c804466c84",
   "metadata": {},
   "outputs": [
    {
     "name": "stdout",
     "output_type": "stream",
     "text": [
      "The deltahedge trade needed is SPY: 8.0\n"
     ]
    },
    {
     "name": "stderr",
     "output_type": "stream",
     "text": [
      "Peer closed connection.\n"
     ]
    }
   ],
   "source": [
    "# get the option delta from IB\n",
    "delta = ticker.modelGreeks.delta\n",
    "delta_neutral_pos = round(-option.position * delta * 100)\n",
    "\n",
    "# calculate the difference between the hedge requirement and the current position\n",
    "stks = [p for p in positions if p.contract.secType == \"STK\"]\n",
    "if stks:\n",
    "    hedge = delta_neutral_pos - stks[0].position\n",
    "else:\n",
    "    hedge = delta_neutral_pos\n",
    "print(f\"The deltahedge trade needed is SPY: {hedge}\")"
   ]
  },
  {
   "cell_type": "code",
   "execution_count": null,
   "id": "82229a08-d36c-4472-b679-9ae167125f90",
   "metadata": {},
   "outputs": [],
   "source": [
    "# TODO: only execute the trade if the hedge outweighs the risk\n",
    "if abs(hedge) > 0:\n",
    "    if hedge > 0:\n",
    "        action = \"BUY\"\n",
    "    else:\n",
    "        action = \"SELL\"\n",
    "        \n",
    "    # return contract and order required to remain delta neutral\n",
    "    contract = Stock(\"SPY\", \"SMART\", \"USD\")\n",
    "    ib.qualifyContracts(contract)\n",
    "    order = MarketOrder(action, abs(hedge))\n",
    "    \n",
    "    # place trade\n",
    "    trade = ib.placeOrder(contract, order)\n",
    "    assert order in ib.orders()\n",
    "    assert trade in ib.trades()\n",
    "    while not trade.isDone():\n",
    "        ib.waitOnUpdate()\n",
    "else:\n",
    "    print(\"Already delta-neutral, no trade required.\")"
   ]
  },
  {
   "cell_type": "code",
   "execution_count": null,
   "id": "98aeec54-4b25-44e4-9af9-181728eae663",
   "metadata": {},
   "outputs": [],
   "source": [
    "ib.positions()"
   ]
  },
  {
   "cell_type": "markdown",
   "id": "aa879aaf-54e0-4e8d-aa27-244380ea3fea",
   "metadata": {},
   "source": [
    "5. At least twice during each trading day for the next four weeks, rebalance your portfolio so that your risk exposure remains as close to delta neutral as possible. Remember transaction costs! Do not trade unless the stock has moved enough, i.e. more than a round-trip transaction costs!  (this part can be done with an algo)"
   ]
  },
  {
   "cell_type": "markdown",
   "id": "6cdbe6e1-90f3-4a99-9eab-6e00671722a9",
   "metadata": {},
   "source": [
    "6. In four weeks, the options are either exercised or expire with 0 value or the hedged position is closed. What is the value of your delta neutral position? Did you make or lost money? Explain why?"
   ]
  },
  {
   "cell_type": "code",
   "execution_count": null,
   "id": "92ffae3e-ee5a-413d-aff3-8840ae737a07",
   "metadata": {},
   "outputs": [
    {
     "name": "stderr",
     "output_type": "stream",
     "text": [
      "Peer closed connection.\n"
     ]
    }
   ],
   "source": [
    "ib.disconnect()"
   ]
  },
  {
   "cell_type": "code",
   "execution_count": null,
   "id": "f6cff6c4-349d-47a8-bb97-6f2938bfd5f4",
   "metadata": {},
   "outputs": [],
   "source": []
  }
 ],
 "metadata": {
  "kernelspec": {
   "display_name": "Python 3 (ipykernel)",
   "language": "python",
   "name": "python3"
  },
  "language_info": {
   "codemirror_mode": {
    "name": "ipython",
    "version": 3
   },
   "file_extension": ".py",
   "mimetype": "text/x-python",
   "name": "python",
   "nbconvert_exporter": "python",
   "pygments_lexer": "ipython3",
   "version": "3.9.12"
  },
  "vscode": {
   "interpreter": {
    "hash": "4ae82d6772557206a20b5b1c955511bcd574119d1a64cb25ff88d6793250536d"
   }
  }
 },
 "nbformat": 4,
 "nbformat_minor": 5
}
