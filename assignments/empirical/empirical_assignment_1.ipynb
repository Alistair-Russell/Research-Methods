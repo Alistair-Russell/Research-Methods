{
 "cells": [
  {
   "cell_type": "markdown",
   "id": "815aaddd-4d7b-4bb4-9108-f4625afef2e6",
   "metadata": {},
   "source": [
    "# Empirical Assignment 1"
   ]
  },
  {
   "cell_type": "markdown",
   "id": "94631fc7-ee22-4cb3-aa34-33b0601eee3f",
   "metadata": {},
   "source": [
    "At the end of 1989, early 1990 a perfect storm in credit markets appeared. Drexel\n",
    "Burnham, the key player in the junk bond market went bankrupt. The Financial Institutions\n",
    "Reform, Recovery, and Enforcement Act (FIRREA) was passed, forcing all savings and loans\n",
    "institutions to eliminate any speculative grade debt from their balance sheets. The national\n",
    "association of Insurance Companies changed their ratings scale in such a way as to\n",
    "incentivize insurance companies - significant investors in corporate bonds - to sharply\n",
    "reduce their junk bond holdings. Finally, a crash in real estate prices in the Northeast lead\n",
    "to a severe contraction of bank lending, often referred to as a “capital crunch”.\n",
    "Undertake a difference-in-differences analysis of nonfinancial corporate behavior\n",
    "(investment and financing policy), using a data window encompassing 1985 through 1994\n",
    "and the end of 1989 as the “event date” and the set of US publicly traded companies.\n",
    "Begin by downloading all available data on US non-financial firms from COMPUSTAT\n",
    "Capital IQ for the period 1985-1994. Condition on firm-year observations with a valid\n",
    "credit rating, and non-missing values for the data items to be used in the analysis (see table\n",
    "at bottom). Note, the controls will be lagged one period relative to the outcome variables,\n",
    "so condition on non-missing data for the outcome variables in period t, but non-missing\n",
    "data for the controls in period t-1."
   ]
  },
  {
   "cell_type": "markdown",
   "id": "9c29625a-6fd5-4eb3-a56b-c3015a684390",
   "metadata": {
    "jp-MarkdownHeadingCollapsed": true,
    "jupyter": {
     "source_hidden": true
    },
    "tags": []
   },
   "source": [
    "# Paper\n",
    "Preamble\n",
    "- Always start with the problem then the approach and the results, then dive in\n",
    "- what is the problem, what are they trying to do\n",
    "- what determines corp leverage and what determines financing\n",
    "- find something that shifts on one of the two related measures (e.g. Supply vs Demand)\n",
    "- endogeneity is the problem in corp fin\n",
    "- shocking the system with endog events you can disentangle these\n",
    "- looking for causal effect of the treatment using DiD\n",
    "- examines three shocks to supply of credit\n",
    "- identifying a link btwn supply of capital and corp behaviour using DiD\n",
    "- background\n",
    "- verification that events were exogenous to demand\n",
    "- \"statistical twins\": propensity score for mapping btwn treatment and control\n",
    "- if you just average the control you'll mess up the trends\n",
    "- ASSIGNMENT: you'll need a fixed effects option in the ols library\n"
   ]
  },
  {
   "cell_type": "markdown",
   "id": "d94a469d-e6c7-45a8-8c22-21efb5f54a6c",
   "metadata": {
    "tags": []
   },
   "source": [
    "# Assignment"
   ]
  },
  {
   "cell_type": "markdown",
   "id": "64c6ec3e-73b8-4de5-ae3f-12f867d0cd7b",
   "metadata": {},
   "source": [
    "## approach\n",
    "- use the wrds library\n",
    "- use fixed effects (OR just don't take fixed effects into account and look at the deviation from the group mean)\n",
    "- you'll have fixed effects(STRUCUTRE IN THE CONDITIONAL MEAN) for time (vt) and fixed effects for a single firm across time (lambda), calculate the means and then demean the data\n",
    "- - otherwise yo';ll have a bunch of stuff that is correlated with Xb\n",
    "- - either look up how to handle panel data with fixed effects or just demean the data yourself.\n",
    "- the problem with corp fin is that you have to cross match datasets\n",
    "\n",
    "## setup\n",
    "- helper fns for bond ratings, j. vs ig., to group for qn 6\n",
    "- helper fn: windsorize\n",
    "- helper fn: growth rate\n",
    "- db = wrds.Connection()\n",
    "- indicators that wil filter based on credit ratings for treatment/control\n",
    "- LOOKUP panelOLS library\n",
    "- LOOKUP how to drop non-financial firms, drop all GIC=40. Find all SIC codes that are financials, utilities, etc.\n",
    "\n",
    "\n",
    "## data\n",
    "- toss away banks right out the gate b/c they are marked ot the market\n",
    "- you'll need stuff like: comp_na_daily_all, comp_na_annual_all\n",
    "- go to \"Data Preview\" in WRDS\n",
    "- PRSTK (just toss 0 in for N/A for preferred stock b/c no one cares about their preferred stock)\n",
    "- MtB: use (M.Eq + B.Debt) / AT if any of the other numerator things are missing\n",
    "- drop anything without a price\n",
    "- NOTE you have to match companies on all these formulas in the appenidix and calculate propensity scores based on that.\n",
    "- you can only dif in dif after you control for these and find statistical twins using prop scores\n",
    "\n",
    "- note dividend growth can sometimes be inf if the company starts issuing, equity issuance can be negative\n",
    "- just plot the distribution whenever you are unsure of whether the observations are messing things up\n",
    "\n",
    "\n",
    "## caveats\n",
    "- don't worry too much about the matching\n",
    "- calculate growth rates relative to total assets for each of the outcome variables\n"
   ]
  },
  {
   "cell_type": "markdown",
   "id": "790da7c8-a2ab-42f9-b2a1-58f210e0d21b",
   "metadata": {},
   "source": [
    "1. How many firms are present during each year of data? Graph this number against time. What is the average number of time series observations per firm? Why should we concern ourselves with these questions?"
   ]
  },
  {
   "cell_type": "code",
   "execution_count": 1,
   "id": "2b4c4df6-3f53-4998-afba-02ed20371106",
   "metadata": {},
   "outputs": [],
   "source": [
    "import time\n",
    "import datetime as dt                   # date objects\n",
    "import numpy as np                      # array manipulation\n",
    "import matplotlib.pyplot as plot        # plotting\n",
    "import pandas as pd                     # data analysis\n",
    "import pandas_datareader as pdr\n",
    "from scipy.stats import norm            # normal cdf\n",
    "import wrds\n",
    "from scipy.stats.mstats import winsorize\n",
    "from linearmodels.panel import PanelOLS\n"
   ]
  },
  {
   "cell_type": "code",
   "execution_count": 2,
   "id": "2a2bab16-d7fa-47db-8fd7-324472800ef0",
   "metadata": {},
   "outputs": [],
   "source": [
    "BONDS_IG = ['AAA', 'AA+', 'AA', 'AA-', 'A+', 'A', 'A-', 'BBB+', 'BBB', 'BBB-']\n",
    "BONDS_JK = ['BB+', 'BB', 'BB-', 'B+', 'B', 'B-', 'CCC+', 'CCC', 'CCC-', 'CC', 'C', 'D']\n",
    "BONDS_BBB = ['BBB+', 'BBB', 'BBB-']\n",
    "BONDS_BB = ['BB+', 'BB', 'BB-']"
   ]
  },
  {
   "cell_type": "markdown",
   "id": "7d37ab49-9eec-4b3e-9bb8-04e45a5eb236",
   "metadata": {},
   "source": [
    "> Begin by downloading all available data on US non-financial firms from COMPUSTAT Capital IQ for the period 1985-1994."
   ]
  },
  {
   "cell_type": "code",
   "execution_count": 3,
   "id": "9304fa0d-8654-4b2f-8e25-6f140c831c82",
   "metadata": {},
   "outputs": [],
   "source": [
    "# read in fundamental and ratings data\n",
    "funda_data = pd.read_csv(\"funda-data.csv\")\n",
    "ratings_data = pd.read_csv(\"ratings-data.csv\")\n",
    "\n",
    "# add date columns\n",
    "funda_data['date'] = funda_data['datadate'].apply(lambda x: int(str(x)[:4]))\n",
    "ratings_data['date'] = ratings_data['datadate'].apply(lambda x: int(str(x)[:4]))"
   ]
  },
  {
   "cell_type": "markdown",
   "id": "288851a3-a453-4255-9a2c-3769ff2712d8",
   "metadata": {},
   "source": [
    "> Condition on firm-year observations with a valid credit rating"
   ]
  },
  {
   "cell_type": "code",
   "execution_count": 4,
   "id": "868454c2-7735-45ce-a11b-a825799c3e43",
   "metadata": {},
   "outputs": [],
   "source": [
    "# grab the first credit rating in the year\n",
    "r = ratings_data[ratings_data['date'].values > 1985]\n",
    "r = r.sort_values([\"gvkey\", \"datadate\"], ignore_index=True)\n",
    "r = r[r['datadate'].values % 10000 == 131]  # this is a hack based on the datadate field\n",
    "\n",
    "# drop any observations without a credit rating\n",
    "r = r[r['splticrm'].notnull()]"
   ]
  },
  {
   "cell_type": "code",
   "execution_count": 5,
   "id": "9399a491-478a-4d48-ba7a-8001feda376b",
   "metadata": {},
   "outputs": [
    {
     "data": {
      "text/plain": [
       "Index(['gvkey', 'datadate_x', 'fyear', 'indfmt', 'consol', 'popsrc', 'datafmt',\n",
       "       'tic_x', 'cusip_x', 'curcd', 'at', 'capxv', 'csho', 'dlc', 'dltt',\n",
       "       'oibdp', 'ppent', 'prstkc', 'pstkl', 'sppe', 'sstk', 'txditc', 'costat',\n",
       "       'prcc_f', 'sic_x', 'date', 'splticrm', 'datadate_y', 'sic_y', 'tic_y',\n",
       "       'cusip_y'],\n",
       "      dtype='object')"
      ]
     },
     "execution_count": 5,
     "metadata": {},
     "output_type": "execute_result"
    }
   ],
   "source": [
    "# fill nas with zeros for certain fields\n",
    "f = funda_data.dropna()\n",
    "\n",
    "# merge data sets\n",
    "data = pd.merge(f, r, on=[\"date\",\"gvkey\"])\n",
    "data.head()\n",
    "data.keys()"
   ]
  },
  {
   "cell_type": "markdown",
   "id": "ad5d8e59-4858-4778-a376-8049b23bf3e3",
   "metadata": {},
   "source": [
    "> 1. How many firms are present during each year of data? Graph this number against time. What is the average number of time series observations per firm? Why should we concern ourselves with these questions?"
   ]
  },
  {
   "cell_type": "code",
   "execution_count": 6,
   "id": "09d32945-d2c3-4770-876f-c3d34aa7b228",
   "metadata": {},
   "outputs": [
    {
     "data": {
      "image/png": "[encoded data removed]",
      "text/plain": [
       "<Figure size 432x288 with 1 Axes>"
      ]
     },
     "metadata": {
      "needs_background": "light"
     },
     "output_type": "display_data"
    }
   ],
   "source": [
    "firms_by_date = data['date'].value_counts()\n",
    "firms_by_date.sort_index().plot()\n",
    "plot.show()"
   ]
  },
  {
   "cell_type": "code",
   "execution_count": 7,
   "id": "7eebd821-f9d4-48df-901a-04679a9940ae",
   "metadata": {},
   "outputs": [
    {
     "name": "stdout",
     "output_type": "stream",
     "text": [
      "Firms per year is: 544.6666666666666\n",
      "Average observations per firm is: 3.7941176470588234\n"
     ]
    }
   ],
   "source": [
    "obs_by_firm = data['gvkey'].value_counts()\n",
    "\n",
    "print(f\"Firms per year is: {firms_by_date.values.mean()}\")\n",
    "print(f\"Average observations per firm is: {obs_by_firm.values.mean()}\")\n"
   ]
  },
  {
   "cell_type": "markdown",
   "id": "3620e621-7e5b-4633-90ff-d63a8cd9e107",
   "metadata": {},
   "source": [
    "The decline in the number of observable firms per year might affect the treatment and control groups differently. We don't have many observations per firm in this time frame."
   ]
  },
  {
   "cell_type": "markdown",
   "id": "3960c49f-ddc5-4dd9-b148-7c895696c698",
   "metadata": {},
   "source": [
    "> 2. Winsorize all ratios (outcomes and controls) at the upper and lower one percentile. Create a table of summary statistics for all of the variables showing the number of observations, mean, median, sd, min and max."
   ]
  },
  {
   "cell_type": "code",
   "execution_count": 8,
   "id": "844f1975-b0da-4fce-990c-9b7948aa68d1",
   "metadata": {},
   "outputs": [],
   "source": [
    "# intermediate variables\n",
    "data['lag_at'] = data['at'].shift()\n",
    "\n",
    "# outcome variables\n",
    "data['inv'] = (data['capxv'] - data['sppe']) / data['ppent'].shift()\n",
    "data['td'] = data['dlc'] + data['dltt']\n",
    "data['net_d_issue'] = (data['td'] - data['td'].shift()) / data['lag_at']\n",
    "data['net_e_issue'] = (data['sstk'] - data['prstkc'].shift()) / data['lag_at']\n",
    "\n",
    "# control variables\n",
    "data['book_lev'] = data['td'] / data['at']\n",
    "data['prof'] = data['oibdp'] / data['at']\n",
    "data['tang'] = data['ppent'] / data['at']\n",
    "data['mtb'] = ((data['prcc_f'] * data['csho']) + data['dlc'] + data['dltt'] + data['pstkl'] + data['txditc']) / data['at']\n",
    "data['size'] = np.log(data['at'])"
   ]
  },
  {
   "cell_type": "markdown",
   "id": "97e132ce-a4ca-41e3-874a-d1fcffef27c8",
   "metadata": {},
   "source": [
    "> 2. Winsorize all ratios (outcomes and controls) at the upper and lower one percentile. Create a table of summary statistics for all of the variables showing the number of observations, mean, median, sd, min and max."
   ]
  },
  {
   "cell_type": "code",
   "execution_count": 9,
   "id": "6e6e4ca9-785d-4be0-a35d-9d181cd6ee58",
   "metadata": {},
   "outputs": [],
   "source": [
    "data.dropna(inplace=True)"
   ]
  },
  {
   "cell_type": "code",
   "execution_count": 10,
   "id": "0fbc883e-ff97-484c-b1d7-144170c4bb4e",
   "metadata": {},
   "outputs": [],
   "source": [
    "data[['inv','td','net_d_issue','net_e_issue','book_lev','prof','tang','mtb','size']] = data.groupby('gvkey')[['inv','td','net_d_issue','net_e_issue','book_lev','prof','tang','mtb','size']].transform(lambda x: winsorize(x,limits=[.01,.99]))"
   ]
  },
  {
   "cell_type": "markdown",
   "id": "5bdda0d0-c411-4c41-9b48-194f12ee883d",
   "metadata": {},
   "source": [
    "> 3. Define treatment and control groups as firms with a speculative-grade, i.e., junk, rating and investment-grade rating, respectively. Speculative-grade is defined as an S&P rating below BBB-. Graph the outcome variables against time for these two groups."
   ]
  },
  {
   "cell_type": "code",
   "execution_count": 11,
   "id": "1d35ad1e-ee64-482e-bd42-17313790cda7",
   "metadata": {},
   "outputs": [],
   "source": [
    "data['is_junk'] = (data['splticrm'].isin(BONDS_JK))\n",
    "data['is_post1989'] = (data['date']>1989)"
   ]
  },
  {
   "cell_type": "code",
   "execution_count": 12,
   "id": "49ac424d-fee1-4115-97cd-9043a5bcd3b2",
   "metadata": {},
   "outputs": [],
   "source": [
    "treatment_data = data[data['is_junk']]\n",
    "treatment_data.set_index('date', inplace=True)"
   ]
  },
  {
   "cell_type": "code",
   "execution_count": 13,
   "id": "3ee3834d-dcb5-4b2a-ad71-6505ddb35c43",
   "metadata": {},
   "outputs": [],
   "source": [
    "control_data = data[~data['is_junk']]"
   ]
  },
  {
   "cell_type": "markdown",
   "id": "f435479a-d3d8-48bf-9a56-7f4af744b886",
   "metadata": {},
   "source": [
    "> 5. Run a DID regression of net debt issuance on an indicator equal to one if the firm is junk rated, an indicator equal to one if the year is after 1989, and an interaction of these two variables. Be sure to cluster the standard errors by firm to account for within firm dependence. Interpret your results."
   ]
  },
  {
   "cell_type": "code",
   "execution_count": 27,
   "id": "a819badf-58c9-4553-97f5-a177ca884c66",
   "metadata": {},
   "outputs": [
    {
     "data": {
      "text/html": [
       "<table class=\"simpletable\">\n",
       "<caption>PanelOLS Estimation Summary</caption>\n",
       "<tr>\n",
       "  <th>Dep. Variable:</th>       <td>net_d_issue</td>   <th>  R-squared:         </th>    <td>0.0000</td>  \n",
       "</tr>\n",
       "<tr>\n",
       "  <th>Estimator:</th>            <td>PanelOLS</td>     <th>  R-squared (Between):</th>   <td>0.0000</td>  \n",
       "</tr>\n",
       "<tr>\n",
       "  <th>No. Observations:</th>       <td>4887</td>       <th>  R-squared (Within):</th>    <td>0.0000</td>  \n",
       "</tr>\n",
       "<tr>\n",
       "  <th>Date:</th>             <td>Tue, Sep 27 2022</td> <th>  R-squared (Overall):</th>   <td>0.0000</td>  \n",
       "</tr>\n",
       "<tr>\n",
       "  <th>Time:</th>                 <td>23:40:54</td>     <th>  Log-likelihood     </th>   <td>1.845e+05</td>\n",
       "</tr>\n",
       "<tr>\n",
       "  <th>Cov. Estimator:</th>       <td>Clustered</td>    <th>                     </th>       <td></td>     \n",
       "</tr>\n",
       "<tr>\n",
       "  <th></th>                          <td></td>         <th>  F-statistic:       </th>    <td>0.0000</td>  \n",
       "</tr>\n",
       "<tr>\n",
       "  <th>Entities:</th>               <td>1291</td>       <th>  P-value            </th>    <td>1.0000</td>  \n",
       "</tr>\n",
       "<tr>\n",
       "  <th>Avg Obs:</th>               <td>3.7854</td>      <th>  Distribution:      </th>   <td>F(2,3594)</td>\n",
       "</tr>\n",
       "<tr>\n",
       "  <th>Min Obs:</th>               <td>1.0000</td>      <th>                     </th>       <td></td>     \n",
       "</tr>\n",
       "<tr>\n",
       "  <th>Max Obs:</th>               <td>10.0000</td>     <th>  F-statistic (robust):</th>  <td>15.285</td>  \n",
       "</tr>\n",
       "<tr>\n",
       "  <th></th>                          <td></td>         <th>  P-value            </th>    <td>0.0000</td>  \n",
       "</tr>\n",
       "<tr>\n",
       "  <th>Time periods:</th>             <td>9</td>        <th>  Distribution:      </th>   <td>F(2,3594)</td>\n",
       "</tr>\n",
       "<tr>\n",
       "  <th>Avg Obs:</th>               <td>543.00</td>      <th>                     </th>       <td></td>     \n",
       "</tr>\n",
       "<tr>\n",
       "  <th>Min Obs:</th>               <td>484.00</td>      <th>                     </th>       <td></td>     \n",
       "</tr>\n",
       "<tr>\n",
       "  <th>Max Obs:</th>               <td>606.00</td>      <th>                     </th>       <td></td>     \n",
       "</tr>\n",
       "<tr>\n",
       "  <th></th>                          <td></td>         <th>                     </th>       <td></td>     \n",
       "</tr>\n",
       "</table>\n",
       "<table class=\"simpletable\">\n",
       "<caption>Parameter Estimates</caption>\n",
       "<tr>\n",
       "       <td></td>        <th>Parameter</th> <th>Std. Err.</th> <th>T-stat</th>  <th>P-value</th>  <th>Lower CI</th>   <th>Upper CI</th> \n",
       "</tr>\n",
       "<tr>\n",
       "  <th>is_junk</th>      <td>3.446e-34</td> <td>1.706e-34</td> <td>2.0197</td>  <td>0.0435</td>   <td>1.009e-35</td>  <td>6.792e-34</td>\n",
       "</tr>\n",
       "<tr>\n",
       "  <th>is_post1989</th> <td>-2.861e-34</td> <td>5.175e-35</td> <td>-5.5277</td> <td>0.0000</td>  <td>-3.875e-34</td> <td>-1.846e-34</td>\n",
       "</tr>\n",
       "</table><br/><br/>F-test for Poolability: 3.381e+35<br/>P-value: 0.0000<br/>Distribution: F(1290,3594)<br/><br/>Included effects: Entity<br/>id: 0x7fa245ba5b80"
      ],
      "text/plain": [
       "                          PanelOLS Estimation Summary                           \n",
       "================================================================================\n",
       "Dep. Variable:            net_d_issue   R-squared:                        0.0000\n",
       "Estimator:                   PanelOLS   R-squared (Between):              0.0000\n",
       "No. Observations:                4887   R-squared (Within):               0.0000\n",
       "Date:                Tue, Sep 27 2022   R-squared (Overall):              0.0000\n",
       "Time:                        23:40:54   Log-likelihood                 1.845e+05\n",
       "Cov. Estimator:             Clustered                                           \n",
       "                                        F-statistic:                      0.0000\n",
       "Entities:                        1291   P-value                           1.0000\n",
       "Avg Obs:                       3.7854   Distribution:                  F(2,3594)\n",
       "Min Obs:                       1.0000                                           \n",
       "Max Obs:                      10.0000   F-statistic (robust):             15.285\n",
       "                                        P-value                           0.0000\n",
       "Time periods:                       9   Distribution:                  F(2,3594)\n",
       "Avg Obs:                       543.00                                           \n",
       "Min Obs:                       484.00                                           \n",
       "Max Obs:                       606.00                                           \n",
       "                                                                                \n",
       "                              Parameter Estimates                              \n",
       "===============================================================================\n",
       "             Parameter  Std. Err.     T-stat    P-value    Lower CI    Upper CI\n",
       "-------------------------------------------------------------------------------\n",
       "is_junk      3.446e-34  1.706e-34     2.0197     0.0435   1.009e-35   6.792e-34\n",
       "is_post1989 -2.861e-34  5.175e-35    -5.5277     0.0000  -3.875e-34  -1.846e-34\n",
       "===============================================================================\n",
       "\n",
       "F-test for Poolability: 3.381e+35\n",
       "P-value: 0.0000\n",
       "Distribution: F(1290,3594)\n",
       "\n",
       "Included effects: Entity\n",
       "PanelEffectsResults, id: 0x7fa245ba5b80"
      ]
     },
     "execution_count": 27,
     "metadata": {},
     "output_type": "execute_result"
    }
   ],
   "source": [
    "d = data.set_index(['gvkey','date'])\n",
    "\n",
    "model = PanelOLS(dependent=d['net_d_issue'],\n",
    "             exog=d[['is_junk','is_post1989']],\n",
    "             entity_effects=True,\n",
    "             time_effects=False)\n",
    "\n",
    "model.fit(cov_type='clustered', cluster_entity=True)"
   ]
  },
  {
   "cell_type": "markdown",
   "id": "23b71199-03b2-4a0a-803c-b8e1bed6b807",
   "metadata": {},
   "source": [
    "**Note**: This didn't quite work as I had hoped... I'll put some time into it this weekend to see if I work out all the issues."
   ]
  },
  {
   "cell_type": "code",
   "execution_count": null,
   "id": "3d3e0fc5-d87d-4ad5-ba30-5b8f37124841",
   "metadata": {},
   "outputs": [],
   "source": []
  }
 ],
 "metadata": {
  "kernelspec": {
   "display_name": "Python 3 (ipykernel)",
   "language": "python",
   "name": "python3"
  },
  "language_info": {
   "codemirror_mode": {
    "name": "ipython",
    "version": 3
   },
   "file_extension": ".py",
   "mimetype": "text/x-python",
   "name": "python",
   "nbconvert_exporter": "python",
   "pygments_lexer": "ipython3",
   "version": "3.9.12"
  }
 },
 "nbformat": 4,
 "nbformat_minor": 5
}
