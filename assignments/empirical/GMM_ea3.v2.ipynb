{
 "cells": [
  {
   "cell_type": "code",
   "execution_count": 1,
   "id": "f3526a7e-ca64-4767-a09c-ae5581e9b69c",
   "metadata": {},
   "outputs": [],
   "source": [
    "from numpy import hstack, ones, array, mat, tile, reshape, squeeze, eye, asmatrix\n",
    "from numpy.linalg import inv\n",
    "from pandas import read_csv, Series \n",
    "from scipy.linalg import kron\n",
    "from scipy.optimize import fmin_bfgs\n",
    "from scipy import stats\n",
    "import numpy as np\n",
    "import statsmodels.api as sm\n",
    "from statsmodels.sandbox.regression.gmm import GMM, IV2SLS"
   ]
  },
  {
   "cell_type": "code",
   "execution_count": 2,
   "id": "085ca51e",
   "metadata": {},
   "outputs": [],
   "source": [
    "# read in data\n",
    "data = read_csv('EA3_data.csv')\n",
    "# # filter to only results from paper\n",
    "# data = data[data['Date'] < '1964']"
   ]
  },
  {
   "cell_type": "code",
   "execution_count": 3,
   "id": "1dd9c1fa",
   "metadata": {},
   "outputs": [
    {
     "name": "stdout",
     "output_type": "stream",
     "text": [
      "Estimate for a: 0.9920903001072756\n",
      "Estimate for b: 0.42170025554557355\n",
      "Estimate for c: -11.294426841715904\n"
     ]
    }
   ],
   "source": [
    "# define portfolio returns vector\n",
    "R = np.array(data.iloc[:,5:].values+1)\n",
    "T, K = R.shape\n",
    "\n",
    "# define V vector, vector of ones, Ndr, Ncf entries\n",
    "V = np.array([np.ones((T)), data['NdrMinus'].values, data['Ncf']]).T\n",
    "\n",
    "# define D = (1/T)R'V\n",
    "D = (1/T)*(R.T @ V)\n",
    "\n",
    "# define g(B) = DBeta-1\n",
    "# since D is linear we can sovle analytically for B1gmm\n",
    "# FN b1gmm = inv(D'WD)D'Wi for some weight matrix W\n",
    "W = np.eye(10)\n",
    "DWD = inv(D.T @ W @ D)\n",
    "beta_gmm1 = DWD @ D.T @ W @ np.ones(10)\n",
    "a,b,c = beta_gmm1\n",
    "\n",
    "print(f\"Estimate for a: {a}\")\n",
    "print(f\"Estimate for b: {b}\")\n",
    "print(f\"Estimate for c: {c}\")"
   ]
  },
  {
   "cell_type": "code",
   "execution_count": 4,
   "id": "ddcecd4c",
   "metadata": {},
   "outputs": [
    {
     "data": {
      "text/plain": [
       "array([4.34283988e-03, 1.35400621e+00, 8.46181153e+00])"
      ]
     },
     "execution_count": 4,
     "metadata": {},
     "output_type": "execute_result"
    }
   ],
   "source": [
    "# now use the CLT to get an estimate for S using the variance of B\n",
    "#moment_fn = lambda t, b: (D[t]@b - np.ones(3))*T\n",
    "#moment_fn = lambda t, b: (R[t] @ (V[t].T @ b) - np.ones(10))\n",
    "g = np.zeros((10,10))\n",
    "for t in range(10):\n",
    "    vb = V[t] @ beta_gmm1\n",
    "    uhat = R[t]*vb - np.ones(10)\n",
    "    g[t] = uhat\n",
    "\n",
    "means = np.outer(np.ones(10), np.mean(g, axis=0))\n",
    "demeaned = g - means\n",
    "S = np.cov(demeaned)\n",
    "\n",
    "var_beta_gmm1 = (1/T) * DWD @ (D.T @ W @ S @ W.T @ D) @ DWD\n",
    "std_devs = np.sqrt(np.diag(var_beta_gmm1))\n",
    "std_devs"
   ]
  },
  {
   "cell_type": "code",
   "execution_count": 5,
   "id": "1f5a248b",
   "metadata": {},
   "outputs": [
    {
     "name": "stdout",
     "output_type": "stream",
     "text": [
      "Wald test returns a value of 1.09 with 0.296 significance for a chi-squared distribution with 1 degrees of freedom.\n"
     ]
    }
   ],
   "source": [
    "# wald test\n",
    "restr = np.array([1,1,0])\n",
    "rtb = restr @ beta_gmm1\n",
    "wald = rtb.T * (restr @ var_beta_gmm1 @ restr.T)**(-1) * rtb\n",
    "pval = 1 - stats.chi2.cdf(wald, 1)\n",
    "\n",
    "print(f\"Wald test returns a value of {wald:.2f} with {pval:.3f} significance for a chi-squared distribution with 1 degrees of freedom.\")"
   ]
  },
  {
   "cell_type": "code",
   "execution_count": 6,
   "id": "cfa3c80a",
   "metadata": {},
   "outputs": [
    {
     "data": {
      "text/plain": [
       "72.8452124060811"
      ]
     },
     "execution_count": 6,
     "metadata": {},
     "output_type": "execute_result"
    }
   ],
   "source": [
    "# gamma estimate\n",
    "gamma = -c/a\n",
    "\n",
    "d_gamma = np.array([-c/(a**2),0,-1/a])\n",
    "std_err = d_gamma @ var_beta_gmm1 @ d_gamma.T\n",
    "std_err\n"
   ]
  },
  {
   "cell_type": "code",
   "execution_count": 7,
   "id": "f23b5aeb",
   "metadata": {},
   "outputs": [
    {
     "name": "stdout",
     "output_type": "stream",
     "text": [
      "Estimate for a: -0.1552734375\n",
      " Std Err for a: 0.2717582364207201\n",
      "Estimate for b: -13.125\n",
      " Std Err for b: 25.495097567963924\n",
      "Estimate for c: 213.0\n",
      " Std Err for c: 91.0823802938856\n"
     ]
    }
   ],
   "source": [
    "# returning to the initial model, we'll use the inverse of S as the new weight matrix\n",
    "W = inv(S)\n",
    "DWD = inv(D.T @ W @ D)\n",
    "beta_gmm2 = DWD @ D.T @ W @ np.ones(10)\n",
    "a,b,c = beta_gmm2\n",
    "\n",
    "g = np.zeros((10,10))\n",
    "for t in range(10):\n",
    "    vb = V[t] @ beta_gmm2\n",
    "    uhat = R[t]*vb - np.ones(10)\n",
    "    g[t] = uhat\n",
    "\n",
    "means = np.outer(np.ones(10), np.mean(g, axis=0))\n",
    "demeaned = g - means\n",
    "S = np.cov(demeaned)\n",
    "\n",
    "var_beta_gmm2 = (1/T) * DWD @ (D.T @ W @ S @ W.T @ D) @ DWD\n",
    "std_devs = np.sqrt(np.diag(var_beta_gmm2))\n",
    "std_a, std_b, std_c = std_devs\n",
    "\n",
    "print(f\"Estimate for a: {a}\\n Std Err for a: {std_a}\")\n",
    "print(f\"Estimate for b: {b}\\n Std Err for b: {std_b}\")\n",
    "print(f\"Estimate for c: {c}\\n Std Err for c: {std_c}\")"
   ]
  },
  {
   "cell_type": "code",
   "execution_count": 8,
   "id": "d49ed98f",
   "metadata": {},
   "outputs": [
    {
     "name": "stdout",
     "output_type": "stream",
     "text": [
      "Wald test returns a value of 0.28 with 0.599 significance for a chi-squared distribution with 1 degrees of freedom.\n"
     ]
    }
   ],
   "source": [
    "# second stage wald test\n",
    "restr = np.array([1,1,0])\n",
    "rtb = np.matmul(restr, beta_gmm2)\n",
    "wald = rtb.T * (1/(restr.T @ var_beta_gmm2 @ restr)) * rtb\n",
    "pval = 1 - stats.chi2.cdf(wald, 1)\n",
    "\n",
    "print(f\"Wald test returns a value of {wald:.2f} with {pval:.3f} significance for a chi-squared distribution with 1 degrees of freedom.\")\n"
   ]
  },
  {
   "cell_type": "code",
   "execution_count": 9,
   "id": "25a070f4",
   "metadata": {},
   "outputs": [
    {
     "data": {
      "text/plain": [
       "6526087.192910942"
      ]
     },
     "execution_count": 9,
     "metadata": {},
     "output_type": "execute_result"
    }
   ],
   "source": [
    "# second stage standard error\n",
    "gamma = -c/a\n",
    "d_gamma = np.array([-c/(a**2),0,-1/a])\n",
    "std_err = d_gamma @ var_beta_gmm2 @ d_gamma.T\n",
    "std_err"
   ]
  },
  {
   "cell_type": "code",
   "execution_count": 10,
   "id": "52388bb2",
   "metadata": {},
   "outputs": [
    {
     "name": "stdout",
     "output_type": "stream",
     "text": [
      "J test returns a value of -11887504491255875584.00 with 1.000 significance for a chi-squared distribution with 7 degrees of freedom.\n"
     ]
    }
   ],
   "source": [
    "# test for overidentification\n",
    "gb = (D @ beta_gmm2 - np.ones(10))\n",
    "J = T *(gb.T @ inv(S) @ gb)\n",
    "pval = 1 - stats.chi2.cdf(J, 7)\n",
    "\n",
    "print(f\"J test returns a value of {J:.2f} with {pval:.3f} significance for a chi-squared distribution with 7 degrees of freedom.\")"
   ]
  },
  {
   "cell_type": "code",
   "execution_count": null,
   "id": "2b9bb58f",
   "metadata": {},
   "outputs": [],
   "source": []
  }
 ],
 "metadata": {
  "kernelspec": {
   "display_name": "Python 3.9.12 ('ibkr_env': venv)",
   "language": "python",
   "name": "python3"
  },
  "language_info": {
   "codemirror_mode": {
    "name": "ipython",
    "version": 3
   },
   "file_extension": ".py",
   "mimetype": "text/x-python",
   "name": "python",
   "nbconvert_exporter": "python",
   "pygments_lexer": "ipython3",
   "version": "3.9.12"
  },
  "vscode": {
   "interpreter": {
    "hash": "4ae82d6772557206a20b5b1c955511bcd574119d1a64cb25ff88d6793250536d"
   }
  }
 },
 "nbformat": 4,
 "nbformat_minor": 5
}
