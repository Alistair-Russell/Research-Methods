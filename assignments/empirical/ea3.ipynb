{
 "cells": [
  {
   "cell_type": "code",
   "execution_count": 124,
   "id": "f3526a7e-ca64-4767-a09c-ae5581e9b69c",
   "metadata": {},
   "outputs": [],
   "source": [
    "from numpy import hstack, ones, array, mat, tile, reshape, squeeze, eye, asmatrix\n",
    "from numpy.linalg import inv\n",
    "from pandas import read_csv, Series \n",
    "from scipy.linalg import kron\n",
    "from scipy.optimize import fmin_bfgs\n",
    "import numpy as np\n",
    "import statsmodels.api as sm"
   ]
  },
  {
   "cell_type": "markdown",
   "id": "c3fb99af-b39e-4e33-9ce8-174f75bb6d37",
   "metadata": {},
   "source": [
    "Next a callable function is used to produce iteration-by-iteration output when using the non-linear optimizer."
   ]
  },
  {
   "cell_type": "code",
   "execution_count": 125,
   "id": "092b3db8-51af-42ca-af78-2013cb499910",
   "metadata": {},
   "outputs": [],
   "source": [
    "iteration = 0\n",
    "lastValue = 0\n",
    "functionCount = 0\n",
    "\n",
    "def iter_print(params):\n",
    "    global iteration, lastValue, functionCount\n",
    "    iteration += 1\n",
    "    print('Func value: {0:}, Iteration: {1:}, Function Count: {2:}'.format(lastValue, iteration, functionCount))"
   ]
  },
  {
   "cell_type": "markdown",
   "id": "b4f91f7c-faad-4549-9106-8bff1c608c3d",
   "metadata": {},
   "source": [
    "The GMM objective, which is minimized, is defined next."
   ]
  },
  {
   "cell_type": "code",
   "execution_count": 126,
   "id": "307fe8cc-15d0-47e6-b3ec-414f0416d998",
   "metadata": {},
   "outputs": [],
   "source": [
    "def gmm_objective(params, pRets, fRets, Winv, out=False):\n",
    "    global lastValue, functionCount\n",
    "    T,N = pRets.shape\n",
    "    T,K = fRets.shape\n",
    "    beta = squeeze(array(params[:(N*K)]))\n",
    "    lam = squeeze(array(params[(N*K):]))\n",
    "    beta = reshape(beta,(N,K))\n",
    "    lam = reshape(lam,(K,1))\n",
    "    betalam = beta @ lam\n",
    "    expectedRet = fRets @ beta.T\n",
    "    e = pRets - expectedRet\n",
    "    instr = tile(fRets,N)\n",
    "    moments1  = kron(e,ones((1,K)))\n",
    "    moments1 = moments1 * instr -1\n",
    "    moments2 = pRets - betalam.T -1\n",
    "    moments = hstack((moments1,moments2))\n",
    "\n",
    "    avgMoment = moments.mean(axis=0)\n",
    "    \n",
    "    J = T * mat(avgMoment) * mat(Winv) * mat(avgMoment).T\n",
    "    J = J[0,0]\n",
    "    lastValue = J\n",
    "    functionCount += 1\n",
    "    if not out:\n",
    "        return J\n",
    "    else:\n",
    "        return J, moments"
   ]
  },
  {
   "cell_type": "markdown",
   "id": "fc34acf4-1b5a-44d0-9035-f1c0f50e9f3d",
   "metadata": {},
   "source": [
    "The G matrix, which is the derivative of the GMM moments with respect to the parameters, is defined."
   ]
  },
  {
   "cell_type": "code",
   "execution_count": 127,
   "id": "785a3201-8aab-4d9f-9a0c-74f9ccbfba23",
   "metadata": {},
   "outputs": [],
   "source": [
    "def gmm_G(params, pRets, fRets):\n",
    "    T,N = pRets.shape\n",
    "    T,K = fRets.shape\n",
    "    beta = squeeze(array(params[:(N*K)]))\n",
    "    lam = squeeze(array(params[(N*K):]))\n",
    "    beta = reshape(beta,(N,K))\n",
    "    lam = reshape(lam,(K,1))\n",
    "    G = np.zeros((N*K+K,N*K+N))\n",
    "    ffp = (fRets.T @ fRets) / T\n",
    "    G[:(N*K),:(N*K)]=kron(eye(N),ffp)\n",
    "    G[:(N*K),(N*K):] = kron(eye(N),-lam)\n",
    "    G[(N*K):,(N*K):] = -beta.T\n",
    "    \n",
    "    return G"
   ]
  },
  {
   "cell_type": "markdown",
   "id": "f704384e-f47a-48bf-a920-733beb88f28b",
   "metadata": {},
   "source": [
    "Next, the data is imported and a subset of the test portfolios is selected to make the estimation faster."
   ]
  },
  {
   "cell_type": "code",
   "execution_count": 128,
   "id": "10083d6d-4809-4d5a-80a6-f898be30048b",
   "metadata": {},
   "outputs": [],
   "source": [
    "data = read_csv('EA3_data.csv')\n",
    "data.iloc[:,1:] = data.iloc[:,1:]\n",
    "# data = data[data['Date'] < '1964']\n",
    "# data.reset_index(inplace=True)\n",
    "\n",
    "# write date, factor, riskfree and portfolio columns\n",
    "dates = data['Date'].values\n",
    "factors = (np.exp(data[['NdrMinus','Ncf']].values)-1)*100\n",
    "riskfree = data['Rf'].values*100\n",
    "portfolios = data.iloc[:,6:].values*100\n",
    "\n",
    "T,N = portfolios.shape\n",
    "portfolios = portfolios[:,np.arange(0,N,2)]\n",
    "T,N = portfolios.shape\n",
    "excessRet = portfolios - np.reshape(riskfree,(T,1))\n",
    "K = np.size(factors,1)"
   ]
  },
  {
   "cell_type": "markdown",
   "id": "a96764ff-df9f-42f8-8fa8-db78d8a0a3d1",
   "metadata": {},
   "source": [
    "Starting values for the factor loadings and risk premia are estimated using OLS and simple means."
   ]
  },
  {
   "cell_type": "code",
   "execution_count": 130,
   "id": "401fc671-87bf-446c-bb5f-f16549b82429",
   "metadata": {},
   "outputs": [],
   "source": [
    "betas = []\n",
    "for i in range(N):\n",
    "    res = sm.OLS(excessRet[:,i],sm.add_constant(factors)).fit()\n",
    "    betas.append(res.params[1:])\n",
    "\n",
    "avgReturn = excessRet.mean(axis=0)\n",
    "avgReturn.shape = N,1\n",
    "betas = array(betas)\n",
    "res = sm.OLS(avgReturn, betas).fit()\n",
    "riskPremia = res.params"
   ]
  },
  {
   "cell_type": "markdown",
   "id": "9c662146-18fb-46d1-b410-833ec06ffc34",
   "metadata": {},
   "source": [
    "The starting values are computed the first step estimates are found using the non-linear optimizer. The initial weighting matrix is just the identity matrix."
   ]
  },
  {
   "cell_type": "code",
   "execution_count": 131,
   "id": "8ae7eecf-9f4c-400b-aebf-2781963fb90d",
   "metadata": {},
   "outputs": [
    {
     "name": "stdout",
     "output_type": "stream",
     "text": [
      "Func value: 3274.191552657447, Iteration: 1, Function Count: 39\n",
      "Func value: 2491.602143941232, Iteration: 2, Function Count: 52\n",
      "Func value: 1641.1084674191623, Iteration: 3, Function Count: 65\n",
      "Func value: 1641.0298289376256, Iteration: 4, Function Count: 91\n",
      "Func value: 1640.9224539714294, Iteration: 5, Function Count: 104\n",
      "Func value: 1573.5019326731108, Iteration: 6, Function Count: 169\n",
      "Func value: 1573.490503885541, Iteration: 7, Function Count: 195\n",
      "Func value: 1573.4716001585937, Iteration: 8, Function Count: 208\n",
      "Func value: 1562.6283626000377, Iteration: 9, Function Count: 273\n",
      "Func value: 1182.5550885755856, Iteration: 10, Function Count: 312\n",
      "Func value: 1177.807254153965, Iteration: 11, Function Count: 338\n",
      "Func value: 1177.8060160100597, Iteration: 12, Function Count: 364\n",
      "Func value: 1001.132185792592, Iteration: 13, Function Count: 481\n",
      "Func value: 1001.1105249226483, Iteration: 14, Function Count: 507\n",
      "Func value: 949.6303927217804, Iteration: 15, Function Count: 585\n",
      "Func value: 893.3747164047974, Iteration: 16, Function Count: 598\n",
      "Func value: 892.9628755020423, Iteration: 17, Function Count: 611\n",
      "Func value: 892.9618504601696, Iteration: 18, Function Count: 624\n",
      "Func value: 892.9618193320532, Iteration: 19, Function Count: 637\n",
      "Func value: 892.9618192659544, Iteration: 20, Function Count: 650\n",
      "Func value: 892.9618192659335, Iteration: 21, Function Count: 663\n",
      "Func value: 892.9618192659137, Iteration: 22, Function Count: 676\n",
      "Warning: Desired error not necessarily achieved due to precision loss.\n",
      "         Current function value: 892.961819\n",
      "         Iterations: 22\n",
      "         Function evaluations: 853\n",
      "         Gradient evaluations: 65\n"
     ]
    }
   ],
   "source": [
    "riskPremia.shape = 2\n",
    "startingVals = np.concatenate((betas.flatten(),riskPremia))\n",
    "\n",
    "Winv = np.eye(N*(K+1))\n",
    "args = (excessRet, factors, Winv)\n",
    "iteration = 0\n",
    "functionCount = 0\n",
    "step1opt = fmin_bfgs(gmm_objective, startingVals, args=args, callback=iter_print)"
   ]
  },
  {
   "cell_type": "code",
   "execution_count": 132,
   "id": "d53480ac-97dd-4d10-89c1-c5c1022b22a0",
   "metadata": {},
   "outputs": [],
   "source": [
    "out = gmm_objective(step1opt, excessRet, factors, Winv, out=True)\n",
    "G = gmm_G(step1opt, excessRet, factors)\n",
    "S = np.cov(out[1].T)\n",
    "vcv = inv(G @ inv(S) @ G.T)/T\n",
    "Winv2 = inv(S)"
   ]
  },
  {
   "cell_type": "markdown",
   "id": "3ce6ec98-7513-42d1-a1a7-47474924d77c",
   "metadata": {},
   "source": [
    "Here we look at the risk premia estimates from the first step (inefficient) estimates."
   ]
  },
  {
   "cell_type": "code",
   "execution_count": 137,
   "id": "0aa94e04-c849-497c-8e1d-cb83e36123a4",
   "metadata": {},
   "outputs": [
    {
     "name": "stdout",
     "output_type": "stream",
     "text": [
      "Annualized Risk Premia\n",
      "NdrMinus   -13.217565\n",
      "Ncf         16.423608\n",
      "dtype: float64\n",
      "Annualized T-stats\n",
      "NdrMinus   -0.187357\n",
      "Ncf         0.202521\n",
      "dtype: float64\n"
     ]
    }
   ],
   "source": [
    "# premia = step1opt[-2:]\n",
    "# premia = Series(premia,index=['NdrMinus', 'Ncf'])\n",
    "# print('Annualized Risk Premia (First step)')\n",
    "# print(premia*4)\n",
    "\n",
    "premia = step1opt[-2:]\n",
    "premia = Series(premia,index=['NdrMinus', 'Ncf'])\n",
    "premia_vcv = vcv[-2:,-2:]\n",
    "print('Annualized Risk Premia')\n",
    "print(premia*4)\n",
    "\n",
    "premia_stderr = np.diag(premia_vcv)\n",
    "premia_stderr = Series(premia_stderr,index=['NdrMinus', 'Ncf'])\n",
    "print('Annualized T-stats')\n",
    "print((premia / premia_stderr))"
   ]
  },
  {
   "cell_type": "markdown",
   "id": "26a2e58d-4282-4109-926c-d4a1be595fe6",
   "metadata": {},
   "source": [
    "Next the first step estimates are used to estimate the moment conditions which are in-turn used to estimate the optimal weighting matrix for the moment conditions. This is then used as an input for the 2nd-step estimates."
   ]
  },
  {
   "cell_type": "code",
   "execution_count": 138,
   "id": "1979a2b9-e4a9-4fa6-894d-16f7ff19b2f0",
   "metadata": {},
   "outputs": [
    {
     "name": "stdout",
     "output_type": "stream",
     "text": [
      "Func value: 14.5833841056896, Iteration: 1, Function Count: 39\n",
      "Func value: 12.414886118064993, Iteration: 2, Function Count: 65\n",
      "Func value: 11.841425793995713, Iteration: 3, Function Count: 91\n",
      "Func value: 10.925559296951619, Iteration: 4, Function Count: 104\n",
      "Func value: 10.666982869428539, Iteration: 5, Function Count: 130\n",
      "Func value: 10.621039614559077, Iteration: 6, Function Count: 143\n",
      "Func value: 10.532963498338813, Iteration: 7, Function Count: 156\n",
      "Func value: 10.389445857093197, Iteration: 8, Function Count: 169\n",
      "Func value: 10.131964207178449, Iteration: 9, Function Count: 182\n",
      "Func value: 9.758945709784273, Iteration: 10, Function Count: 195\n",
      "Func value: 9.663282569139307, Iteration: 11, Function Count: 208\n",
      "Func value: 8.868889507228957, Iteration: 12, Function Count: 234\n",
      "Func value: 8.225864213524634, Iteration: 13, Function Count: 247\n",
      "Func value: 8.148280723428998, Iteration: 14, Function Count: 260\n",
      "Func value: 8.022576089350279, Iteration: 15, Function Count: 273\n",
      "Func value: 7.894879551184482, Iteration: 16, Function Count: 286\n",
      "Func value: 7.862078388254986, Iteration: 17, Function Count: 299\n",
      "Func value: 7.852146891624615, Iteration: 18, Function Count: 312\n",
      "Func value: 7.845207786548252, Iteration: 19, Function Count: 325\n",
      "Func value: 7.844774636180988, Iteration: 20, Function Count: 338\n",
      "Func value: 7.844121968026154, Iteration: 21, Function Count: 351\n",
      "Func value: 7.843890503816758, Iteration: 22, Function Count: 364\n",
      "Func value: 7.843878018412351, Iteration: 23, Function Count: 377\n",
      "Func value: 7.843863647556642, Iteration: 24, Function Count: 390\n",
      "Func value: 7.843862948080595, Iteration: 25, Function Count: 403\n",
      "Func value: 7.843862685461741, Iteration: 26, Function Count: 416\n",
      "Func value: 7.843862680974962, Iteration: 27, Function Count: 429\n",
      "Func value: 7.843862680591009, Iteration: 28, Function Count: 442\n",
      "Func value: 7.84386268057496, Iteration: 29, Function Count: 455\n",
      "Func value: 7.843862680574894, Iteration: 30, Function Count: 507\n",
      "Func value: 7.8438626805748815, Iteration: 31, Function Count: 520\n",
      "Func value: 7.843862680574788, Iteration: 32, Function Count: 546\n",
      "Optimization terminated successfully.\n",
      "         Current function value: 7.843863\n",
      "         Iterations: 32\n",
      "         Function evaluations: 546\n",
      "         Gradient evaluations: 42\n"
     ]
    }
   ],
   "source": [
    "args = (excessRet, factors, Winv2)\n",
    "\n",
    "iteration = 0\n",
    "functionCount = 0\n",
    "step2opt = fmin_bfgs(gmm_objective, step1opt, args=args, callback=iter_print)"
   ]
  },
  {
   "cell_type": "markdown",
   "id": "2099e34b-7398-4cb3-a959-af5b9031c586",
   "metadata": {},
   "source": [
    "Finally the VCV of the parameter estimates is computed."
   ]
  },
  {
   "cell_type": "code",
   "execution_count": 139,
   "id": "ce8cfc38-3fab-4bdb-96ac-cfe27d2ee2f8",
   "metadata": {},
   "outputs": [],
   "source": [
    "out = gmm_objective(step2opt, excessRet, factors, Winv2, out=True)\n",
    "G = gmm_G(step2opt, excessRet, factors)\n",
    "S = np.cov(out[1].T)\n",
    "vcv = inv(G @ inv(S) @ G.T)/T"
   ]
  },
  {
   "cell_type": "markdown",
   "id": "9eba7d89-5daa-4648-8034-d84a1ceda0d7",
   "metadata": {},
   "source": [
    "The annualized risk premia and their associated t-stats."
   ]
  },
  {
   "cell_type": "code",
   "execution_count": 140,
   "id": "d1960889-9b6a-4b3b-8870-d7561ee3b4e6",
   "metadata": {},
   "outputs": [
    {
     "name": "stdout",
     "output_type": "stream",
     "text": [
      "Annualized Risk Premia\n",
      "NdrMinus   -22.988643\n",
      "Ncf         29.974171\n",
      "dtype: float64\n",
      "T-stats\n",
      "NdrMinus   -0.325861\n",
      "Ncf         0.369614\n",
      "dtype: float64\n"
     ]
    }
   ],
   "source": [
    "premia = step2opt[-2:]\n",
    "premia = Series(premia,index=['NdrMinus', 'Ncf'])\n",
    "premia_vcv = vcv[-2:,-2:]\n",
    "print('Annualized Risk Premia')\n",
    "print(premia*4)\n",
    "\n",
    "premia_stderr = np.diag(premia_vcv)\n",
    "premia_stderr = Series(premia_stderr,index=['NdrMinus', 'Ncf'])\n",
    "print('T-stats')\n",
    "print(premia / (premia_stderr))"
   ]
  },
  {
   "cell_type": "code",
   "execution_count": null,
   "id": "cbf43ce8-8ae8-4381-921f-ff852f62feb4",
   "metadata": {},
   "outputs": [],
   "source": []
  }
 ],
 "metadata": {
  "kernelspec": {
   "display_name": "Python 3 (ipykernel)",
   "language": "python",
   "name": "python3"
  },
  "language_info": {
   "codemirror_mode": {
    "name": "ipython",
    "version": 3
   },
   "file_extension": ".py",
   "mimetype": "text/x-python",
   "name": "python",
   "nbconvert_exporter": "python",
   "pygments_lexer": "ipython3",
   "version": "3.9.12"
  }
 },
 "nbformat": 4,
 "nbformat_minor": 5
}
