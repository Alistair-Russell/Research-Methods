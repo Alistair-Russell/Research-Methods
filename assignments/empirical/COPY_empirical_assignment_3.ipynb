{
 "cells": [
  {
   "cell_type": "code",
   "execution_count": 1,
   "id": "f3526a7e-ca64-4767-a09c-ae5581e9b69c",
   "metadata": {},
   "outputs": [],
   "source": [
    "from numpy import hstack, ones, array, mat, tile, reshape, squeeze, eye, asmatrix\n",
    "from numpy.linalg import inv\n",
    "from pandas import read_csv, Series \n",
    "from scipy.linalg import kron\n",
    "from scipy.optimize import fmin_bfgs\n",
    "import numpy as np\n",
    "import statsmodels.api as sm"
   ]
  },
  {
   "cell_type": "markdown",
   "id": "c3fb99af-b39e-4e33-9ce8-174f75bb6d37",
   "metadata": {},
   "source": [
    "Next a callable function is used to produce iteration-by-iteration output when using the non-linear optimizer."
   ]
  },
  {
   "cell_type": "code",
   "execution_count": 2,
   "id": "092b3db8-51af-42ca-af78-2013cb499910",
   "metadata": {},
   "outputs": [],
   "source": [
    "iteration = 0\n",
    "lastValue = 0\n",
    "functionCount = 0\n",
    "\n",
    "def iter_print(params):\n",
    "    global iteration, lastValue, functionCount\n",
    "    iteration += 1\n",
    "    print('Func value: {0:}, Iteration: {1:}, Function Count: {2:}'.format(lastValue, iteration, functionCount))"
   ]
  },
  {
   "cell_type": "markdown",
   "id": "b4f91f7c-faad-4549-9106-8bff1c608c3d",
   "metadata": {},
   "source": [
    "The GMM objective, which is minimized, is defined next."
   ]
  },
  {
   "cell_type": "code",
   "execution_count": 3,
   "id": "307fe8cc-15d0-47e6-b3ec-414f0416d998",
   "metadata": {},
   "outputs": [],
   "source": [
    "def gmm_objective(params, pRets, fRets, Winv, out=False):\n",
    "    global lastValue, functionCount\n",
    "    T,N = pRets.shape\n",
    "    T,K = fRets.shape\n",
    "    beta = squeeze(array(params[:(N*K)]))\n",
    "    lam = squeeze(array(params[(N*K):]))\n",
    "    beta = reshape(beta,(N,K))\n",
    "    lam = reshape(lam,(K,1))\n",
    "    betalam = beta @ lam\n",
    "    expectedRet = fRets @ beta.T\n",
    "    e = pRets - expectedRet\n",
    "    instr = tile(fRets,N)\n",
    "    moments1  = kron(e,ones((1,K)))\n",
    "    moments1 = moments1 * instr\n",
    "    moments2 = pRets - betalam.T\n",
    "    moments = hstack((moments1,moments2))\n",
    "\n",
    "    avgMoment = moments.mean(axis=0)\n",
    "    \n",
    "    J = T * mat(avgMoment) * mat(Winv) * mat(avgMoment).T\n",
    "    J = J[0,0]\n",
    "    lastValue = J\n",
    "    functionCount += 1\n",
    "    if not out:\n",
    "        return J\n",
    "    else:\n",
    "        return J, moments"
   ]
  },
  {
   "cell_type": "markdown",
   "id": "fc34acf4-1b5a-44d0-9035-f1c0f50e9f3d",
   "metadata": {},
   "source": [
    "The G matrix, which is the derivative of the GMM moments with respect to the parameters, is defined."
   ]
  },
  {
   "cell_type": "code",
   "execution_count": 4,
   "id": "785a3201-8aab-4d9f-9a0c-74f9ccbfba23",
   "metadata": {},
   "outputs": [],
   "source": [
    "def gmm_G(params, pRets, fRets):\n",
    "    T,N = pRets.shape\n",
    "    T,K = fRets.shape\n",
    "    beta = squeeze(array(params[:(N*K)]))\n",
    "    lam = squeeze(array(params[(N*K):]))\n",
    "    beta = reshape(beta,(N,K))\n",
    "    lam = reshape(lam,(K,1))\n",
    "    G = np.zeros((N*K+K,N*K+N))\n",
    "    ffp = (fRets.T @ fRets) / T\n",
    "    G[:(N*K),:(N*K)]=kron(eye(N),ffp)\n",
    "    G[:(N*K),(N*K):] = kron(eye(N),-lam)\n",
    "    G[(N*K):,(N*K):] = -beta.T\n",
    "    \n",
    "    return G"
   ]
  },
  {
   "cell_type": "markdown",
   "id": "f704384e-f47a-48bf-a920-733beb88f28b",
   "metadata": {},
   "source": [
    "Next, the data is imported and a subset of the test portfolios is selected to make the estimation faster."
   ]
  },
  {
   "cell_type": "code",
   "execution_count": 5,
   "id": "10083d6d-4809-4d5a-80a6-f898be30048b",
   "metadata": {},
   "outputs": [],
   "source": [
    "data = read_csv('FamaFrench.csv')\n",
    "\n",
    "# Split using both named colums and ix for larger blocks\n",
    "dates = data['date'].values\n",
    "factors = data[['VWMe','SMB','HML']].values\n",
    "riskfree = data['RF'].values\n",
    "portfolios = data.iloc[:,5:].values\n",
    "\n",
    "T,N = portfolios.shape\n",
    "portfolios = portfolios[:,np.arange(0,N,2)]\n",
    "T,N = portfolios.shape\n",
    "excessRet = portfolios - np.reshape(riskfree,(T,1))\n",
    "K = np.size(factors,1)"
   ]
  },
  {
   "cell_type": "markdown",
   "id": "a96764ff-df9f-42f8-8fa8-db78d8a0a3d1",
   "metadata": {},
   "source": [
    "Starting values for the factor loadings and rick premia are estimated using OLS and simple means."
   ]
  },
  {
   "cell_type": "code",
   "execution_count": 6,
   "id": "401fc671-87bf-446c-bb5f-f16549b82429",
   "metadata": {},
   "outputs": [],
   "source": [
    "betas = []\n",
    "for i in range(N):\n",
    "    res = sm.OLS(excessRet[:,i],sm.add_constant(factors)).fit()\n",
    "    betas.append(res.params[1:])\n",
    "\n",
    "avgReturn = excessRet.mean(axis=0)\n",
    "avgReturn.shape = N,1\n",
    "betas = array(betas)\n",
    "res = sm.OLS(avgReturn, betas).fit()\n",
    "riskPremia = res.params"
   ]
  },
  {
   "cell_type": "markdown",
   "id": "9c662146-18fb-46d1-b410-833ec06ffc34",
   "metadata": {},
   "source": [
    "The starting values are computed the first step estimates are found using the non-linear optimizer. The initial weighting matrix is just the identify matrix."
   ]
  },
  {
   "cell_type": "code",
   "execution_count": 7,
   "id": "8ae7eecf-9f4c-400b-aebf-2781963fb90d",
   "metadata": {},
   "outputs": [
    {
     "name": "stdout",
     "output_type": "stream",
     "text": [
      "Func value: 1915.9754143260711, Iteration: 1, Function Count: 129\n",
      "Func value: 1817.0224257797436, Iteration: 2, Function Count: 215\n",
      "Func value: 1814.9526091309287, Iteration: 3, Function Count: 301\n",
      "Func value: 1814.8635519699772, Iteration: 4, Function Count: 387\n",
      "Func value: 1814.7318742173184, Iteration: 5, Function Count: 430\n",
      "Func value: 1814.4942013819782, Iteration: 6, Function Count: 473\n",
      "Func value: 1814.4838554978394, Iteration: 7, Function Count: 559\n",
      "Func value: 1814.483326791821, Iteration: 8, Function Count: 645\n",
      "Func value: 1814.483224980472, Iteration: 9, Function Count: 731\n",
      "Func value: 1814.4830322457515, Iteration: 10, Function Count: 774\n",
      "Func value: 1814.4830313497584, Iteration: 11, Function Count: 860\n",
      "Func value: 1814.482995719322, Iteration: 12, Function Count: 989\n",
      "Func value: 1814.396421614271, Iteration: 13, Function Count: 1247\n",
      "Func value: 1814.3288153896822, Iteration: 14, Function Count: 1290\n",
      "Func value: 1814.224346463929, Iteration: 15, Function Count: 1333\n",
      "Func value: 1814.2243369441057, Iteration: 16, Function Count: 1419\n",
      "Func value: 1814.2243225993552, Iteration: 17, Function Count: 1462\n",
      "Func value: 1814.1919443678673, Iteration: 18, Function Count: 1720\n",
      "Func value: 1814.1362661022292, Iteration: 19, Function Count: 1763\n",
      "Func value: 1814.136138264875, Iteration: 20, Function Count: 1849\n",
      "Func value: 1814.1359650197096, Iteration: 21, Function Count: 1892\n",
      "Func value: 1814.1296411184983, Iteration: 22, Function Count: 2021\n",
      "Func value: 1814.1275290985068, Iteration: 23, Function Count: 2064\n",
      "Func value: 1814.108118062705, Iteration: 24, Function Count: 2150\n",
      "Func value: 1814.1079061103553, Iteration: 25, Function Count: 2236\n",
      "Func value: 1814.1078971502309, Iteration: 26, Function Count: 2322\n",
      "Func value: 1814.086712531744, Iteration: 27, Function Count: 2580\n",
      "Func value: 1814.0818633097415, Iteration: 28, Function Count: 2666\n",
      "Func value: 1814.081711753939, Iteration: 29, Function Count: 2752\n",
      "Func value: 1814.0816685107704, Iteration: 30, Function Count: 2838\n",
      "Func value: 1814.0749215926237, Iteration: 31, Function Count: 3010\n",
      "Func value: 1814.0736298271272, Iteration: 32, Function Count: 3096\n",
      "Func value: 1814.0731217580785, Iteration: 33, Function Count: 3182\n",
      "Func value: 1814.0731002005755, Iteration: 34, Function Count: 3268\n",
      "Func value: 1814.0730716291414, Iteration: 35, Function Count: 3311\n",
      "Func value: 1814.0686241540247, Iteration: 36, Function Count: 3483\n",
      "Func value: 1814.0682269013741, Iteration: 37, Function Count: 3569\n",
      "Func value: 1814.0682037190418, Iteration: 38, Function Count: 3655\n",
      "Func value: 1814.068203700783, Iteration: 39, Function Count: 3741\n",
      "Func value: 1814.0652884692836, Iteration: 40, Function Count: 4128\n",
      "Func value: 1814.0650806520973, Iteration: 41, Function Count: 4214\n",
      "Func value: 1814.0650778186814, Iteration: 42, Function Count: 4300\n",
      "Func value: 1814.0633082650402, Iteration: 43, Function Count: 4515\n",
      "Func value: 1814.062984249711, Iteration: 44, Function Count: 4601\n",
      "Func value: 1814.0629767695086, Iteration: 45, Function Count: 4687\n",
      "Func value: 1814.0618151868634, Iteration: 46, Function Count: 4859\n",
      "Func value: 1814.0617179399324, Iteration: 47, Function Count: 4945\n",
      "Func value: 1814.0617153660705, Iteration: 48, Function Count: 5031\n",
      "Func value: 1814.0612958165868, Iteration: 49, Function Count: 5203\n",
      "Func value: 1814.0612783253205, Iteration: 50, Function Count: 5289\n",
      "Func value: 1814.0612777909366, Iteration: 51, Function Count: 5375\n",
      "Func value: 1814.0609289420488, Iteration: 52, Function Count: 5590\n",
      "Func value: 1814.060927160465, Iteration: 53, Function Count: 5676\n",
      "Func value: 1814.0606378593316, Iteration: 54, Function Count: 5848\n",
      "Func value: 1814.0601295783492, Iteration: 55, Function Count: 5891\n",
      "Func value: 1814.0595322653023, Iteration: 56, Function Count: 5934\n",
      "Func value: 1814.0595158325405, Iteration: 57, Function Count: 5977\n",
      "Func value: 1814.0595158325282, Iteration: 58, Function Count: 6321\n",
      "Func value: 1814.0595158325293, Iteration: 59, Function Count: 6536\n",
      "Func value: 1814.059515832532, Iteration: 60, Function Count: 7356\n",
      "Func value: 1814.0595158325314, Iteration: 61, Function Count: 8044\n",
      "Warning: Desired error not necessarily achieved due to precision loss.\n",
      "         Current function value: 1814.059516\n",
      "         Iterations: 61\n",
      "         Function evaluations: 9948\n",
      "         Gradient evaluations: 231\n"
     ]
    }
   ],
   "source": [
    "riskPremia.shape = 3\n",
    "startingVals = np.concatenate((betas.flatten(),riskPremia))\n",
    "\n",
    "Winv = np.eye(N*(K+1))\n",
    "args = (excessRet, factors, Winv)\n",
    "iteration = 0\n",
    "functionCount = 0\n",
    "step1opt = fmin_bfgs(gmm_objective, startingVals, args=args, callback=iter_print)"
   ]
  },
  {
   "cell_type": "markdown",
   "id": "3ce6ec98-7513-42d1-a1a7-47474924d77c",
   "metadata": {},
   "source": [
    "Here we look at the risk premia estimates from the first step (inefficient) estimates."
   ]
  },
  {
   "cell_type": "code",
   "execution_count": 8,
   "id": "0aa94e04-c849-497c-8e1d-cb83e36123a4",
   "metadata": {},
   "outputs": [
    {
     "name": "stdout",
     "output_type": "stream",
     "text": [
      "Annualized Risk Premia (First step)\n",
      "VWMe    5.829996\n",
      "SMB     4.068223\n",
      "HML     1.680948\n",
      "dtype: float64\n"
     ]
    }
   ],
   "source": [
    "premia = step1opt[-3:]\n",
    "premia = Series(premia,index=['VWMe', 'SMB', 'HML'])\n",
    "print('Annualized Risk Premia (First step)')\n",
    "print(12 * premia)"
   ]
  },
  {
   "cell_type": "markdown",
   "id": "32255aa1-38e8-4411-9f23-33f2b7f70f59",
   "metadata": {},
   "source": [
    "Next the first step estimates are used to estimate the moment conditions which are in-turn used to estimate the optimal weighting matrix for the moment conditions. This is then used as an input for the 2nd-step estimates."
   ]
  },
  {
   "cell_type": "code",
   "execution_count": 9,
   "id": "155e2622-fcb9-4bb9-a476-5aabf71fd176",
   "metadata": {},
   "outputs": [
    {
     "name": "stdout",
     "output_type": "stream",
     "text": [
      "Func value: 70.6917827630953, Iteration: 1, Function Count: 129\n",
      "Func value: 69.26303994431365, Iteration: 2, Function Count: 172\n",
      "Func value: 67.07244176925596, Iteration: 3, Function Count: 215\n",
      "Func value: 64.57443516066405, Iteration: 4, Function Count: 258\n",
      "Func value: 62.64097399603331, Iteration: 5, Function Count: 301\n",
      "Func value: 60.38315471686493, Iteration: 6, Function Count: 344\n",
      "Func value: 59.77131466595251, Iteration: 7, Function Count: 387\n",
      "Func value: 59.01670155187132, Iteration: 8, Function Count: 430\n",
      "Func value: 58.118248347250066, Iteration: 9, Function Count: 473\n",
      "Func value: 57.16139626780914, Iteration: 10, Function Count: 516\n",
      "Func value: 56.54119805493946, Iteration: 11, Function Count: 559\n",
      "Func value: 55.762612325912364, Iteration: 12, Function Count: 602\n",
      "Func value: 54.70774340385646, Iteration: 13, Function Count: 645\n",
      "Func value: 54.16273774492472, Iteration: 14, Function Count: 731\n",
      "Func value: 53.68443040806662, Iteration: 15, Function Count: 774\n",
      "Func value: 53.24912542196698, Iteration: 16, Function Count: 817\n",
      "Func value: 52.95654914146462, Iteration: 17, Function Count: 860\n",
      "Func value: 52.70763016285373, Iteration: 18, Function Count: 903\n",
      "Func value: 52.40947875607877, Iteration: 19, Function Count: 946\n",
      "Func value: 52.28025787456844, Iteration: 20, Function Count: 989\n",
      "Func value: 52.09459229739824, Iteration: 21, Function Count: 1032\n",
      "Func value: 51.925919072303884, Iteration: 22, Function Count: 1075\n",
      "Func value: 51.691277813007574, Iteration: 23, Function Count: 1118\n",
      "Func value: 51.32800631615031, Iteration: 24, Function Count: 1161\n",
      "Func value: 50.88325399749637, Iteration: 25, Function Count: 1204\n",
      "Func value: 50.61501783954661, Iteration: 26, Function Count: 1247\n",
      "Func value: 50.32530193614259, Iteration: 27, Function Count: 1290\n",
      "Func value: 49.82325770632492, Iteration: 28, Function Count: 1333\n",
      "Func value: 49.45804645956143, Iteration: 29, Function Count: 1376\n",
      "Func value: 49.305059795078904, Iteration: 30, Function Count: 1419\n",
      "Func value: 49.08058889596933, Iteration: 31, Function Count: 1462\n",
      "Func value: 48.86935681373673, Iteration: 32, Function Count: 1505\n",
      "Func value: 48.76038277058918, Iteration: 33, Function Count: 1591\n",
      "Func value: 48.615215535605216, Iteration: 34, Function Count: 1634\n",
      "Func value: 48.438209467066706, Iteration: 35, Function Count: 1677\n",
      "Func value: 48.22325179082667, Iteration: 36, Function Count: 1720\n",
      "Func value: 48.119285509505104, Iteration: 37, Function Count: 1763\n",
      "Func value: 47.99668355722014, Iteration: 38, Function Count: 1806\n",
      "Func value: 47.820702697010645, Iteration: 39, Function Count: 1849\n",
      "Func value: 47.599832040188815, Iteration: 40, Function Count: 1892\n",
      "Func value: 47.19189231884811, Iteration: 41, Function Count: 1935\n",
      "Func value: 46.46432590216776, Iteration: 42, Function Count: 1978\n",
      "Func value: 46.17951442092513, Iteration: 43, Function Count: 2064\n",
      "Func value: 45.64868848497898, Iteration: 44, Function Count: 2107\n",
      "Func value: 44.79177762043654, Iteration: 45, Function Count: 2150\n",
      "Func value: 44.31246194121918, Iteration: 46, Function Count: 2193\n",
      "Func value: 44.31220747304216, Iteration: 47, Function Count: 2236\n",
      "Func value: 44.31216780330236, Iteration: 48, Function Count: 2279\n",
      "Func value: 44.31216776600836, Iteration: 49, Function Count: 2322\n",
      "Func value: 44.312167765527555, Iteration: 50, Function Count: 2365\n",
      "Func value: 44.3121677655274, Iteration: 51, Function Count: 3363\n",
      "Warning: Desired error not necessarily achieved due to precision loss.\n",
      "         Current function value: 44.312168\n",
      "         Iterations: 51\n",
      "         Function evaluations: 4493\n",
      "         Gradient evaluations: 104\n"
     ]
    }
   ],
   "source": [
    "out = gmm_objective(step1opt, excessRet, factors, Winv, out=True)\n",
    "S = np.cov(out[1].T)\n",
    "Winv2 = inv(S)\n",
    "args = (excessRet, factors, Winv2)\n",
    "\n",
    "iteration = 0\n",
    "functionCount = 0\n",
    "step2opt = fmin_bfgs(gmm_objective, step1opt, args=args, callback=iter_print)"
   ]
  },
  {
   "cell_type": "markdown",
   "id": "2099e34b-7398-4cb3-a959-af5b9031c586",
   "metadata": {},
   "source": [
    "Finally the VCV of the parameter estimates is computed."
   ]
  },
  {
   "cell_type": "code",
   "execution_count": 10,
   "id": "ce8cfc38-3fab-4bdb-96ac-cfe27d2ee2f8",
   "metadata": {},
   "outputs": [],
   "source": [
    "out = gmm_objective(step2opt, excessRet, factors, Winv2, out=True)\n",
    "G = gmm_G(step2opt, excessRet, factors)\n",
    "S = np.cov(out[1].T)\n",
    "vcv = inv(G @ inv(S) @ G.T)/T"
   ]
  },
  {
   "cell_type": "markdown",
   "id": "9eba7d89-5daa-4648-8034-d84a1ceda0d7",
   "metadata": {},
   "source": [
    "The annualized risk premia and their associated t-stats."
   ]
  },
  {
   "cell_type": "code",
   "execution_count": 11,
   "id": "d1960889-9b6a-4b3b-8870-d7561ee3b4e6",
   "metadata": {},
   "outputs": [
    {
     "name": "stdout",
     "output_type": "stream",
     "text": [
      "Annualized Risk Premia\n",
      "VWMe    10.089707\n",
      "SMB      3.457166\n",
      "HML      7.620109\n",
      "dtype: float64\n",
      "T-stats\n",
      "VWMe    28.282290\n",
      "SMB     22.372708\n",
      "HML     43.791632\n",
      "dtype: float64\n"
     ]
    }
   ],
   "source": [
    "premia = step2opt[-3:]\n",
    "premia = Series(premia,index=['VWMe', 'SMB', 'HML'])\n",
    "premia_vcv = vcv[-3:,-3:]\n",
    "print('Annualized Risk Premia')\n",
    "print(12 * premia)\n",
    "\n",
    "premia_stderr = np.diag(premia_vcv)\n",
    "premia_stderr = Series(premia_stderr,index=['VWMe', 'SMB', 'HML'])\n",
    "print('T-stats')\n",
    "print(premia / premia_stderr)"
   ]
  }
 ],
 "metadata": {
  "kernelspec": {
   "display_name": "Python 3 (ipykernel)",
   "language": "python",
   "name": "python3"
  },
  "language_info": {
   "codemirror_mode": {
    "name": "ipython",
    "version": 3
   },
   "file_extension": ".py",
   "mimetype": "text/x-python",
   "name": "python",
   "nbconvert_exporter": "python",
   "pygments_lexer": "ipython3",
   "version": "3.9.12"
  }
 },
 "nbformat": 4,
 "nbformat_minor": 5
}
