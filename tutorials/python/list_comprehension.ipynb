{
 "cells": [
  {
   "cell_type": "markdown",
   "id": "60abec98-181e-4d20-a80b-f385e0e8a301",
   "metadata": {},
   "source": [
    "# Python List Comprehension\n",
    "\n",
    "### Concept \n",
    "```output = [expression(item) for item in some_list]```"
   ]
  },
  {
   "cell_type": "markdown",
   "id": "59e98ac7-ff34-45e9-96e7-9b96217cb9bb",
   "metadata": {},
   "source": [
    "1. List duplication and shallow copying\n",
    "2. Modification and Filtering\n",
    "3. Pairs from two lists\n",
    "4. Dictionary comprehension"
   ]
  },
  {
   "cell_type": "markdown",
   "id": "915742e0-252a-41aa-82fc-65ef0add2201",
   "metadata": {},
   "source": [
    "### List duplication and shallow copying"
   ]
  },
  {
   "cell_type": "code",
   "execution_count": 2,
   "id": "844be5d8-406a-499b-aca4-49f40b2dd5f0",
   "metadata": {},
   "outputs": [
    {
     "data": {
      "text/plain": [
       "[-1, 3, 4, 10]"
      ]
     },
     "execution_count": 2,
     "metadata": {},
     "output_type": "execute_result"
    }
   ],
   "source": [
    "my_list = [-1,3,4,10]\n",
    "new_list = [item for item in my_list]\n",
    "new_list"
   ]
  },
  {
   "cell_type": "markdown",
   "id": "0fc20073-1c2c-4fa0-80db-9c98fc6e3a29",
   "metadata": {},
   "source": [
    "Note that this performs a \"shallow copy\", meaning that the items in the new list reference the same items in the old list. In otherwords, be careful of adverse side effects. Eg..."
   ]
  },
  {
   "cell_type": "code",
   "execution_count": 6,
   "id": "3c3af420-25d7-4e10-8b73-0689ca8e9c4c",
   "metadata": {},
   "outputs": [
    {
     "data": {
      "text/plain": [
       "[{'dict1': 2}, {'dict2': 2}]"
      ]
     },
     "execution_count": 6,
     "metadata": {},
     "output_type": "execute_result"
    }
   ],
   "source": [
    "my_list = [{'dict1':1},{'dict2':2}]\n",
    "new_list = [item for item in my_list]\n",
    "\n",
    "my_list[0]['dict1'] = 2\n",
    "my_list"
   ]
  },
  {
   "cell_type": "code",
   "execution_count": 7,
   "id": "e5a2784a-9334-4162-a81c-cb5633f149db",
   "metadata": {},
   "outputs": [
    {
     "data": {
      "text/plain": [
       "[{'dict1': 2}, {'dict2': 2}]"
      ]
     },
     "execution_count": 7,
     "metadata": {},
     "output_type": "execute_result"
    }
   ],
   "source": [
    "new_list"
   ]
  },
  {
   "cell_type": "markdown",
   "id": "229f4964-899f-4d1d-a737-bed83e160c80",
   "metadata": {},
   "source": [
    "We didn't explicitly change the dictionary in new_list but the list comprehension made a shallow copy so both lists reference the same objects in memory and changes to the objects are then reflected in each list. \n",
    "\n",
    "This only applies for mutable types (dictionaries are mutable, numbers are not). You can use the deep_copy function to make a new copy of a list of mutable items if you need to."
   ]
  },
  {
   "cell_type": "markdown",
   "id": "a4a6f6eb-aa16-412d-b8ae-4db0710870fe",
   "metadata": {},
   "source": [
    "### Modification and filtering"
   ]
  },
  {
   "cell_type": "code",
   "execution_count": 9,
   "id": "5f323b54-ac86-4380-93a1-196358a1d92d",
   "metadata": {},
   "outputs": [
    {
     "data": {
      "text/plain": [
       "[1, 9, 16, 100]"
      ]
     },
     "execution_count": 9,
     "metadata": {},
     "output_type": "execute_result"
    }
   ],
   "source": [
    "my_list = [-1, 3, 4, 10]\n",
    "modified = [x**2 for x in my_list]\n",
    "modified"
   ]
  },
  {
   "cell_type": "markdown",
   "id": "f680758f-1929-424a-892b-6c63e7eb9d73",
   "metadata": {},
   "source": [
    "This saves us building a for loop..."
   ]
  },
  {
   "cell_type": "code",
   "execution_count": 14,
   "id": "36d11252-5f34-4e57-b01a-cf42c3b8f789",
   "metadata": {},
   "outputs": [
    {
     "data": {
      "text/plain": [
       "[1, 9, 16, 100]"
      ]
     },
     "execution_count": 14,
     "metadata": {},
     "output_type": "execute_result"
    }
   ],
   "source": [
    "modified = []\n",
    "for y in my_list:\n",
    "    modified.append(y**2)\n",
    "modified"
   ]
  },
  {
   "cell_type": "markdown",
   "id": "aa6491b2-8a66-45e4-8641-9d6fef424d61",
   "metadata": {},
   "source": [
    "...which can become large in complex scenarios. It also improves readability.\n",
    "\n",
    "Filtering:"
   ]
  },
  {
   "cell_type": "code",
   "execution_count": 17,
   "id": "d4289938-3777-45bd-bf18-7491b1202e47",
   "metadata": {},
   "outputs": [
    {
     "data": {
      "text/plain": [
       "[3, 4]"
      ]
     },
     "execution_count": 17,
     "metadata": {},
     "output_type": "execute_result"
    }
   ],
   "source": [
    "my_list = [-1, 3, 4, 10]\n",
    "filtered = [i for i in my_list if i < 10 and i > 0]\n",
    "filtered"
   ]
  },
  {
   "cell_type": "markdown",
   "id": "dd9cd3ad-613c-46ab-98b2-2e2c3eb110b5",
   "metadata": {},
   "source": [
    "When filtering, the original list is retained when we create a new list, so we can use to create more..."
   ]
  },
  {
   "cell_type": "code",
   "execution_count": 18,
   "id": "92c310cb-e6d9-49ed-bf8e-c28412ed4b06",
   "metadata": {},
   "outputs": [
    {
     "data": {
      "text/plain": [
       "[-1, 3, 4, 10]"
      ]
     },
     "execution_count": 18,
     "metadata": {},
     "output_type": "execute_result"
    }
   ],
   "source": [
    "my_list"
   ]
  },
  {
   "cell_type": "code",
   "execution_count": 21,
   "id": "cd69e87d-ed67-4c3e-98d9-77b144992123",
   "metadata": {},
   "outputs": [
    {
     "data": {
      "text/plain": [
       "[-11, 17, 54]"
      ]
     },
     "execution_count": 21,
     "metadata": {},
     "output_type": "execute_result"
    }
   ],
   "source": [
    "filtered = [(item**3-10) for item in my_list if abs(item) < 10]\n",
    "filtered"
   ]
  },
  {
   "cell_type": "markdown",
   "id": "a0f91ca4-1af7-44d2-9e8b-f081815630e2",
   "metadata": {},
   "source": [
    "To replicate this without list comprehension you would need a for loop and if statements, which is far less readable."
   ]
  },
  {
   "cell_type": "markdown",
   "id": "b3dcd010-d99b-4ef3-8b5c-1b550f0728be",
   "metadata": {},
   "source": [
    "### Pairs from two lists"
   ]
  },
  {
   "cell_type": "code",
   "execution_count": 24,
   "id": "80c972a5-ec13-4c51-8830-38dc564a1ca6",
   "metadata": {},
   "outputs": [
    {
     "data": {
      "text/plain": [
       "[(1, 2), (1, 4), (1, 6), (3, 2), (3, 4), (3, 6), (5, 2), (5, 4), (5, 6)]"
      ]
     },
     "execution_count": 24,
     "metadata": {},
     "output_type": "execute_result"
    }
   ],
   "source": [
    "list1 = (1,3,5)\n",
    "list2 = (2,4,6)\n",
    "pairs = [(l1, l2) for l1 in list1 for l2 in list2]\n",
    "pairs"
   ]
  },
  {
   "cell_type": "code",
   "execution_count": 25,
   "id": "e7621784-242b-4736-acbc-2f757ce22021",
   "metadata": {},
   "outputs": [
    {
     "data": {
      "text/plain": [
       "[(1, 2), (1, 4), (1, 6), (3, 4), (3, 6), (5, 6)]"
      ]
     },
     "execution_count": 25,
     "metadata": {},
     "output_type": "execute_result"
    }
   ],
   "source": [
    "pairs = [(l1, l2) for l1 in list1 for l2 in list2 if l1 < l2]\n",
    "pairs"
   ]
  },
  {
   "cell_type": "markdown",
   "id": "92e9de24-f672-47f9-9028-987b3730e30f",
   "metadata": {},
   "source": [
    "### Dictionary comprehension"
   ]
  },
  {
   "cell_type": "code",
   "execution_count": 28,
   "id": "380908e8-520e-45c7-8f15-f5e770fa273d",
   "metadata": {},
   "outputs": [],
   "source": [
    "d = {'key1':1, 'key2':2, 'key3':3}"
   ]
  },
  {
   "cell_type": "code",
   "execution_count": 33,
   "id": "7d391179-1153-4de8-863c-b9504d5fe54c",
   "metadata": {},
   "outputs": [
    {
     "data": {
      "text/plain": [
       "[('key1', 10), ('key2', 20), ('key3', 30)]"
      ]
     },
     "execution_count": 33,
     "metadata": {},
     "output_type": "execute_result"
    }
   ],
   "source": [
    "output = [(k,v*10) for k,v in d.items()]\n",
    "output"
   ]
  },
  {
   "cell_type": "code",
   "execution_count": 37,
   "id": "3f7056cc-c577-4f27-a7ba-6b1c0620619a",
   "metadata": {},
   "outputs": [
    {
     "data": {
      "text/plain": [
       "[8, 27]"
      ]
     },
     "execution_count": 37,
     "metadata": {},
     "output_type": "execute_result"
    }
   ],
   "source": [
    "output = [v**3 for v in d.values() if v > 1]\n",
    "output"
   ]
  },
  {
   "cell_type": "markdown",
   "id": "c242c2c1-d86c-4ac6-b21d-3830f9d6ace8",
   "metadata": {},
   "source": [
    "This is only slightly more complex - in that you need to make a decision for what to do with the keys and values - but the idea is the same."
   ]
  },
  {
   "cell_type": "markdown",
   "id": "9865a635-fe65-4ede-8231-ab90d21a04ec",
   "metadata": {},
   "source": [
    "(Note: Dictionaries are insertion ordered as of python 3.6+ but are unordered in previous versions of python.)"
   ]
  }
 ],
 "metadata": {
  "kernelspec": {
   "display_name": "Python 3 (ipykernel)",
   "language": "python",
   "name": "python3"
  },
  "language_info": {
   "codemirror_mode": {
    "name": "ipython",
    "version": 3
   },
   "file_extension": ".py",
   "mimetype": "text/x-python",
   "name": "python",
   "nbconvert_exporter": "python",
   "pygments_lexer": "ipython3",
   "version": "3.9.12"
  }
 },
 "nbformat": 4,
 "nbformat_minor": 5
}
